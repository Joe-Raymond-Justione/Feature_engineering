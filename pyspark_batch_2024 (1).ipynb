{
  "nbformat": 4,
  "nbformat_minor": 0,
  "metadata": {
    "colab": {
      "provenance": []
    },
    "kernelspec": {
      "name": "python3",
      "display_name": "Python 3"
    },
    "language_info": {
      "name": "python"
    }
  },
  "cells": [
    {
      "cell_type": "markdown",
      "source": [
        "# Big Data Technologies @ UCP"
      ],
      "metadata": {
        "id": "fmn1ghYm3wSC"
      }
    },
    {
      "cell_type": "markdown",
      "source": [
        "Welcome to this hands-on class on building Big Data applications using Spark components for batch processing.\n",
        "\n",
        "This Jupyter Notebook exemplifies how to:\n",
        "- [install PySpark](#install_pyspark)\n",
        "- [download data](#download_data)\n",
        "- [start PySpark cluster](#start_cluster)\n",
        "- [perform RDD operations](#rdd)\n",
        "- [perform Dataframe operations](#dataframe)\n",
        "- [solve a \"real\" challenge](#challenge)"
      ],
      "metadata": {
        "id": "otS-joYo31Zj"
      }
    },
    {
      "cell_type": "markdown",
      "source": [
        "# Licensing"
      ],
      "metadata": {
        "id": "RJXgQ0zTY4UA"
      }
    },
    {
      "cell_type": "markdown",
      "source": [
        "*The source code in this notebook is licensed under the* [*Apache License, Version 2.0*](https://www.apache.org/licenses/LICENSE-2.0).\n",
        "\n",
        "*This notebook is licensed under the* [*Creative Commons Attribution-NonCommercial-ShareAlike 4.0 License*](https://creativecommons.org/licenses/by-nc-sa/4.0).\n",
        "\n",
        "Developed by [*Miguel Costa*](https://www.linkedin.com/in/migcosta/)"
      ],
      "metadata": {
        "id": "z7TD3U6vZAGY"
      }
    },
    {
      "cell_type": "markdown",
      "source": [
        "<a name=\"install_pyspark\"></a>\n",
        "#PySpark Installation"
      ],
      "metadata": {
        "id": "rWwBhXRYTlHy"
      }
    },
    {
      "cell_type": "code",
      "source": [
        "# install pyspark\n",
        "!pip install pyspark --quiet"
      ],
      "metadata": {
        "colab": {
          "base_uri": "https://localhost:8080/"
        },
        "id": "i_rhQGtH3xJd",
        "outputId": "7811ef3a-d2d8-4ed6-9926-70bb395694d3"
      },
      "execution_count": 1,
      "outputs": [
        {
          "output_type": "stream",
          "name": "stdout",
          "text": [
            "\u001b[2K     \u001b[90m━━━━━━━━━━━━━━━━━━━━━━━━━━━━━━━━━━━━━━━━\u001b[0m \u001b[32m317.0/317.0 MB\u001b[0m \u001b[31m2.5 MB/s\u001b[0m eta \u001b[36m0:00:00\u001b[0m\n",
            "\u001b[?25h  Preparing metadata (setup.py) ... \u001b[?25l\u001b[?25hdone\n",
            "  Building wheel for pyspark (setup.py) ... \u001b[?25l\u001b[?25hdone\n"
          ]
        }
      ]
    },
    {
      "cell_type": "markdown",
      "source": [
        "<a name=\"download_data\"></a>\n",
        "# Download Data"
      ],
      "metadata": {
        "id": "sNXp5fSCYyM0"
      }
    },
    {
      "cell_type": "code",
      "source": [
        "# Moby-Dick eBook from The Project Gutenberg\n",
        "EBOOK_FILE = '2701-0.txt'\n",
        "EBOOK_URL = 'https://www.gutenberg.org/files/2701/' + EBOOK_FILE"
      ],
      "metadata": {
        "id": "YIXwQ2DUZA42"
      },
      "execution_count": 2,
      "outputs": []
    },
    {
      "cell_type": "code",
      "source": [
        "# download file\n",
        "!wget {EBOOK_URL}"
      ],
      "metadata": {
        "colab": {
          "base_uri": "https://localhost:8080/"
        },
        "id": "hNUgEtmOY5BO",
        "outputId": "b4d75d72-477d-4125-ba7c-59f821e2bd4d"
      },
      "execution_count": 3,
      "outputs": [
        {
          "output_type": "stream",
          "name": "stdout",
          "text": [
            "--2024-05-07 09:18:30--  https://www.gutenberg.org/files/2701/2701-0.txt\n",
            "Resolving www.gutenberg.org (www.gutenberg.org)... 152.19.134.47, 2610:28:3090:3000:0:bad:cafe:47\n",
            "Connecting to www.gutenberg.org (www.gutenberg.org)|152.19.134.47|:443... connected.\n",
            "HTTP request sent, awaiting response... 200 OK\n",
            "Length: 1276235 (1.2M) [text/plain]\n",
            "Saving to: ‘2701-0.txt’\n",
            "\n",
            "2701-0.txt          100%[===================>]   1.22M  6.69MB/s    in 0.2s    \n",
            "\n",
            "2024-05-07 09:18:31 (6.69 MB/s) - ‘2701-0.txt’ saved [1276235/1276235]\n",
            "\n"
          ]
        }
      ]
    },
    {
      "cell_type": "markdown",
      "source": [
        "<a name=\"start_cluster\"></a>\n",
        "# Start PySpark Cluster"
      ],
      "metadata": {
        "id": "Wi0Rlz0BD65n"
      }
    },
    {
      "cell_type": "code",
      "source": [
        "# start pyspark cluster in standalone mode\n",
        "from pyspark.sql import SparkSession\n",
        "from pyspark import SparkContext, SparkConf\n",
        "\n",
        "spark = SparkSession.builder\\\n",
        "          .appName(\"firstSparkApp\")\\\n",
        "          .master('local[*]').getOrCreate()\n",
        "sc = spark.sparkContext\n",
        "spark"
      ],
      "metadata": {
        "colab": {
          "base_uri": "https://localhost:8080/",
          "height": 220
        },
        "id": "9yXYn7i0UNht",
        "outputId": "c177a34e-5959-4260-b66e-cb493cedc5f6"
      },
      "execution_count": 4,
      "outputs": [
        {
          "output_type": "execute_result",
          "data": {
            "text/plain": [
              "<pyspark.sql.session.SparkSession at 0x7bb07021e500>"
            ],
            "text/html": [
              "\n",
              "            <div>\n",
              "                <p><b>SparkSession - in-memory</b></p>\n",
              "                \n",
              "        <div>\n",
              "            <p><b>SparkContext</b></p>\n",
              "\n",
              "            <p><a href=\"http://26637938eccf:4040\">Spark UI</a></p>\n",
              "\n",
              "            <dl>\n",
              "              <dt>Version</dt>\n",
              "                <dd><code>v3.5.1</code></dd>\n",
              "              <dt>Master</dt>\n",
              "                <dd><code>local[*]</code></dd>\n",
              "              <dt>AppName</dt>\n",
              "                <dd><code>firstSparkApp</code></dd>\n",
              "            </dl>\n",
              "        </div>\n",
              "        \n",
              "            </div>\n",
              "        "
            ]
          },
          "metadata": {},
          "execution_count": 4
        }
      ]
    },
    {
      "cell_type": "markdown",
      "source": [
        "<a name=\"rdd\"></a>\n",
        "# RDD Operations"
      ],
      "metadata": {
        "id": "CK_hkd3sXIuU"
      }
    },
    {
      "cell_type": "markdown",
      "source": [
        "### Basics"
      ],
      "metadata": {
        "id": "1Uxo4UFfFAKe"
      }
    },
    {
      "cell_type": "code",
      "source": [
        "# create an RDD\n",
        "arr = sc.parallelize([1, 2, 3])"
      ],
      "metadata": {
        "id": "kw0TZMg9JL0G"
      },
      "execution_count": 5,
      "outputs": []
    },
    {
      "cell_type": "code",
      "source": [
        "# retrieve RDD content\n",
        "arr.collect()"
      ],
      "metadata": {
        "colab": {
          "base_uri": "https://localhost:8080/"
        },
        "id": "XWvI1U5gOEHR",
        "outputId": "44c103cd-2fdb-4aed-b9dc-24df6a136818"
      },
      "execution_count": 6,
      "outputs": [
        {
          "output_type": "execute_result",
          "data": {
            "text/plain": [
              "[1, 2, 3]"
            ]
          },
          "metadata": {},
          "execution_count": 6
        }
      ]
    },
    {
      "cell_type": "code",
      "source": [
        "# retrieve first 2 elements\n",
        "arr.take(2)"
      ],
      "metadata": {
        "colab": {
          "base_uri": "https://localhost:8080/"
        },
        "id": "oX7vGFSjOUAW",
        "outputId": "f6ff4497-5654-441d-ec8e-3ddcc1336c26"
      },
      "execution_count": 7,
      "outputs": [
        {
          "output_type": "execute_result",
          "data": {
            "text/plain": [
              "[1, 2]"
            ]
          },
          "metadata": {},
          "execution_count": 7
        }
      ]
    },
    {
      "cell_type": "code",
      "source": [
        "# count number of elements\n",
        "arr.count()"
      ],
      "metadata": {
        "colab": {
          "base_uri": "https://localhost:8080/"
        },
        "id": "QtRZG1EoOUb2",
        "outputId": "816b44df-9b8d-4fef-acd5-ec678e425f82"
      },
      "execution_count": 8,
      "outputs": [
        {
          "output_type": "execute_result",
          "data": {
            "text/plain": [
              "3"
            ]
          },
          "metadata": {},
          "execution_count": 8
        }
      ]
    },
    {
      "cell_type": "code",
      "source": [
        "# reduces elements with a commutative and associative function\n",
        "arr.reduce(lambda x, y: x + y)"
      ],
      "metadata": {
        "colab": {
          "base_uri": "https://localhost:8080/"
        },
        "id": "91ZvCYknOpgP",
        "outputId": "5570a59d-623d-4118-fc23-bb97b8909f4d"
      },
      "execution_count": 9,
      "outputs": [
        {
          "output_type": "execute_result",
          "data": {
            "text/plain": [
              "6"
            ]
          },
          "metadata": {},
          "execution_count": 9
        }
      ]
    },
    {
      "cell_type": "code",
      "source": [
        "# pass each element through a lambda function\n",
        "squares = arr.map(lambda x: x * x)\n",
        "print(squares.collect())"
      ],
      "metadata": {
        "colab": {
          "base_uri": "https://localhost:8080/"
        },
        "id": "eQK1vguJXtyd",
        "outputId": "2c4f0ef2-9561-442c-f377-b4ca5ff80cc1"
      },
      "execution_count": 10,
      "outputs": [
        {
          "output_type": "stream",
          "name": "stdout",
          "text": [
            "[1, 4, 9]\n"
          ]
        }
      ]
    },
    {
      "cell_type": "code",
      "source": [
        "# filter elements with a lambda function\n",
        "even = squares.filter(lambda x: x % 2 == 0)\n",
        "print(even.collect())"
      ],
      "metadata": {
        "colab": {
          "base_uri": "https://localhost:8080/"
        },
        "id": "E_67L0F_J36G",
        "outputId": "340a7f3a-1911-4166-ba4c-b02b8122d0ca"
      },
      "execution_count": 11,
      "outputs": [
        {
          "output_type": "stream",
          "name": "stdout",
          "text": [
            "[4]\n"
          ]
        }
      ]
    },
    {
      "cell_type": "code",
      "source": [
        "# passing function (len of each list) to run on the cluster\n",
        "def myFunc(arr):\n",
        "  return len(arr)\n",
        "\n",
        "arr = sc.parallelize([[1],[1,1],[1,1,1]])\n",
        "arr.map(myFunc).collect()"
      ],
      "metadata": {
        "colab": {
          "base_uri": "https://localhost:8080/"
        },
        "id": "8bMfCSjnXCph",
        "outputId": "836844bc-444a-46ec-f439-a065b014a4ed"
      },
      "execution_count": 12,
      "outputs": [
        {
          "output_type": "execute_result",
          "data": {
            "text/plain": [
              "[1, 2, 3]"
            ]
          },
          "metadata": {},
          "execution_count": 12
        }
      ]
    },
    {
      "cell_type": "markdown",
      "source": [
        "### Word Count"
      ],
      "metadata": {
        "id": "W0rhjOBsFIlf"
      }
    },
    {
      "cell_type": "code",
      "source": [
        "# count number of lines with the word Moby using the wc and grep commands\n",
        "!grep Moby {EBOOK_FILE} | wc -l"
      ],
      "metadata": {
        "colab": {
          "base_uri": "https://localhost:8080/"
        },
        "id": "8wDT4W3KL_Rm",
        "outputId": "6e6df14c-5c76-4e8a-eea6-1cbc10c4837a"
      },
      "execution_count": 13,
      "outputs": [
        {
          "output_type": "stream",
          "name": "stdout",
          "text": [
            "83\n"
          ]
        }
      ]
    },
    {
      "cell_type": "code",
      "source": [
        "# count number of lines and the lines containing the word Moby\n",
        "rdd = sc.textFile(EBOOK_FILE) # read file to RDD\n",
        "print(rdd.count())\n",
        "print(rdd.filter(lambda s: \"Moby\" in s).count())"
      ],
      "metadata": {
        "colab": {
          "base_uri": "https://localhost:8080/"
        },
        "id": "ZBvk8HIEagYO",
        "outputId": "80d0ca71-4cef-40db-93b2-d35fda0c3fe6"
      },
      "execution_count": 14,
      "outputs": [
        {
          "output_type": "stream",
          "name": "stdout",
          "text": [
            "22316\n",
            "83\n"
          ]
        }
      ]
    },
    {
      "cell_type": "code",
      "source": [
        "# word count\n",
        "result = rdd.flatMap(lambda line: line.lower().split(\" \"))\\\n",
        "    .filter(lambda word: word != '')\\\n",
        "    .map(lambda word: (word, 1))\\\n",
        "    .reduceByKey(lambda x, y: x + y)\\\n",
        "    .sortBy(lambda x: x[1], ascending=False)\n",
        "print(*result.take(10), sep='\\n')"
      ],
      "metadata": {
        "colab": {
          "base_uri": "https://localhost:8080/"
        },
        "id": "u9j3LWzbiJJd",
        "outputId": "92f693cb-c02f-4a29-c5dd-6d212842530e"
      },
      "execution_count": 15,
      "outputs": [
        {
          "output_type": "stream",
          "name": "stdout",
          "text": [
            "('the', 14512)\n",
            "('of', 6683)\n",
            "('and', 6322)\n",
            "('a', 4663)\n",
            "('to', 4599)\n",
            "('in', 4126)\n",
            "('that', 2748)\n",
            "('his', 2485)\n",
            "('it', 1777)\n",
            "('with', 1750)\n"
          ]
        }
      ]
    },
    {
      "cell_type": "code",
      "source": [
        "# save result to text file\n",
        "result.saveAsTextFile(\"wordCount\")\n",
        "!ls wordCount\n",
        "!head -n 10 wordCount/part-00000"
      ],
      "metadata": {
        "colab": {
          "base_uri": "https://localhost:8080/"
        },
        "id": "7U5sXOvx1gqb",
        "outputId": "1d1a33af-a551-4993-a8f0-7980afc66e61"
      },
      "execution_count": 16,
      "outputs": [
        {
          "output_type": "stream",
          "name": "stdout",
          "text": [
            "part-00000  part-00001\t_SUCCESS\n",
            "('the', 14512)\n",
            "('of', 6683)\n",
            "('and', 6322)\n",
            "('a', 4663)\n",
            "('to', 4599)\n",
            "('in', 4126)\n",
            "('that', 2748)\n",
            "('his', 2485)\n",
            "('it', 1777)\n",
            "('with', 1750)\n"
          ]
        }
      ]
    },
    {
      "cell_type": "markdown",
      "source": [
        "### Total Words"
      ],
      "metadata": {
        "id": "zVLNtyl1GcXW"
      }
    },
    {
      "cell_type": "code",
      "source": [
        "# count total number of words  with the wc command\n",
        "!wc -w {EBOOK_FILE}"
      ],
      "metadata": {
        "colab": {
          "base_uri": "https://localhost:8080/"
        },
        "id": "JtdAWozGG37O",
        "outputId": "04041458-1955-474a-c8b6-3cddfe4730f3"
      },
      "execution_count": 17,
      "outputs": [
        {
          "output_type": "stream",
          "name": "stdout",
          "text": [
            "215864 2701-0.txt\n"
          ]
        }
      ]
    },
    {
      "cell_type": "code",
      "source": [
        "# count total number of words\n",
        "rdd = sc.textFile(EBOOK_FILE) # read file to RDD\n",
        "result = rdd.flatMap(lambda line: line.split(\" \"))\\\n",
        "      .filter(lambda word: word != '')\\\n",
        "      .map(lambda word: 1)\\\n",
        "      .reduce(lambda x, y: x + y)\n",
        "print(result)"
      ],
      "metadata": {
        "colab": {
          "base_uri": "https://localhost:8080/"
        },
        "id": "tTLaTtCJGgF-",
        "outputId": "5f5e7639-7970-4ec4-b56b-817f1931be2e"
      },
      "execution_count": 18,
      "outputs": [
        {
          "output_type": "stream",
          "name": "stdout",
          "text": [
            "215864\n"
          ]
        }
      ]
    },
    {
      "cell_type": "markdown",
      "source": [
        "<a name=\"dataframe\"></a>\n",
        "# DataFrame Operations"
      ],
      "metadata": {
        "id": "Zfr4BaihbUqc"
      }
    },
    {
      "cell_type": "markdown",
      "source": [
        "### Basics"
      ],
      "metadata": {
        "id": "WckHuTn-FRgm"
      }
    },
    {
      "cell_type": "code",
      "source": [
        "from pyspark.sql import functions as f\n",
        "from pyspark.sql.types import *"
      ],
      "metadata": {
        "id": "f7zFXIMmdS4O"
      },
      "execution_count": 19,
      "outputs": []
    },
    {
      "cell_type": "code",
      "source": [
        "# list of tuples\n",
        "col_values = [('Alice', 33, 151),\n",
        "              ('Mary',  44, None),\n",
        "              ('Joan',  55, 983)]"
      ],
      "metadata": {
        "id": "W0Z5l22zUkfp"
      },
      "execution_count": 20,
      "outputs": []
    },
    {
      "cell_type": "code",
      "source": [
        "# create a DataFrame without an explicit schema\n",
        "df = spark.createDataFrame(col_values)\n",
        "df.show()"
      ],
      "metadata": {
        "colab": {
          "base_uri": "https://localhost:8080/"
        },
        "id": "asTCtX_NUV1i",
        "outputId": "8dfa1036-1f26-4d12-ad7c-c05deaeb4391"
      },
      "execution_count": 21,
      "outputs": [
        {
          "output_type": "stream",
          "name": "stdout",
          "text": [
            "+-----+---+----+\n",
            "|   _1| _2|  _3|\n",
            "+-----+---+----+\n",
            "|Alice| 33| 151|\n",
            "| Mary| 44|NULL|\n",
            "| Joan| 55| 983|\n",
            "+-----+---+----+\n",
            "\n"
          ]
        }
      ]
    },
    {
      "cell_type": "code",
      "source": [
        "# create a DataFrame without an explicit schema but with column names\n",
        "df = spark.createDataFrame(col_values, schema=[\"name\",\"age\",\"code\"])\n",
        "df.show()"
      ],
      "metadata": {
        "colab": {
          "base_uri": "https://localhost:8080/"
        },
        "id": "1CRHO8hCV_eC",
        "outputId": "e24b8df4-77b8-4e91-d469-d8f5b668513b"
      },
      "execution_count": 22,
      "outputs": [
        {
          "output_type": "stream",
          "name": "stdout",
          "text": [
            "+-----+---+----+\n",
            "| name|age|code|\n",
            "+-----+---+----+\n",
            "|Alice| 33| 151|\n",
            "| Mary| 44|NULL|\n",
            "| Joan| 55| 983|\n",
            "+-----+---+----+\n",
            "\n"
          ]
        }
      ]
    },
    {
      "cell_type": "code",
      "source": [
        "# print schema of DataFrame\n",
        "df.printSchema()"
      ],
      "metadata": {
        "colab": {
          "base_uri": "https://localhost:8080/"
        },
        "id": "hIKT_p2HVCgS",
        "outputId": "1e02dba7-0bb5-4fa6-a039-9676a95301af"
      },
      "execution_count": 23,
      "outputs": [
        {
          "output_type": "stream",
          "name": "stdout",
          "text": [
            "root\n",
            " |-- name: string (nullable = true)\n",
            " |-- age: long (nullable = true)\n",
            " |-- code: long (nullable = true)\n",
            "\n"
          ]
        }
      ]
    },
    {
      "cell_type": "code",
      "source": [
        "# create a DataFrame with an explicit schema\n",
        "schema = StructType([\n",
        "             StructField(\"name\", StringType(), True),\n",
        "             StructField(\"age\", IntegerType(), True),\n",
        "             StructField(\"code\", IntegerType(), True)\n",
        "          ])\n",
        "\n",
        "df = spark.createDataFrame(col_values, schema)\n",
        "df.show()"
      ],
      "metadata": {
        "id": "7WVoxH5LO4Bb",
        "colab": {
          "base_uri": "https://localhost:8080/"
        },
        "outputId": "27070e29-e932-4def-c6e1-ee94c3f37c9e"
      },
      "execution_count": 24,
      "outputs": [
        {
          "output_type": "stream",
          "name": "stdout",
          "text": [
            "+-----+---+----+\n",
            "| name|age|code|\n",
            "+-----+---+----+\n",
            "|Alice| 33| 151|\n",
            "| Mary| 44|NULL|\n",
            "| Joan| 55| 983|\n",
            "+-----+---+----+\n",
            "\n"
          ]
        }
      ]
    },
    {
      "cell_type": "code",
      "source": [
        "# print schema of DataFrame\n",
        "df.printSchema()"
      ],
      "metadata": {
        "id": "27rpKyIJFbTg",
        "colab": {
          "base_uri": "https://localhost:8080/"
        },
        "outputId": "53a70e9f-708e-428c-e136-eabed23e1053"
      },
      "execution_count": 25,
      "outputs": [
        {
          "output_type": "stream",
          "name": "stdout",
          "text": [
            "root\n",
            " |-- name: string (nullable = true)\n",
            " |-- age: integer (nullable = true)\n",
            " |-- code: integer (nullable = true)\n",
            "\n"
          ]
        }
      ]
    },
    {
      "cell_type": "code",
      "source": [
        "# print schema information\n",
        "print(df.columns)\n",
        "print(df.dtypes)"
      ],
      "metadata": {
        "colab": {
          "base_uri": "https://localhost:8080/"
        },
        "id": "mhj0LWhvWncb",
        "outputId": "5b5710e2-b105-4ebf-9104-b68bfd5e5a80"
      },
      "execution_count": 26,
      "outputs": [
        {
          "output_type": "stream",
          "name": "stdout",
          "text": [
            "['name', 'age', 'code']\n",
            "[('name', 'string'), ('age', 'int'), ('code', 'int')]\n"
          ]
        }
      ]
    },
    {
      "cell_type": "code",
      "source": [
        "# collect the distributed dataframe from all worker nodes to the driver side\n",
        "df.collect()"
      ],
      "metadata": {
        "colab": {
          "base_uri": "https://localhost:8080/"
        },
        "id": "6k1MI_c-W7xl",
        "outputId": "534fc00f-436e-4bed-9b8a-716521b39d22"
      },
      "execution_count": 27,
      "outputs": [
        {
          "output_type": "execute_result",
          "data": {
            "text/plain": [
              "[Row(name='Alice', age=33, code=151),\n",
              " Row(name='Mary', age=44, code=None),\n",
              " Row(name='Joan', age=55, code=983)]"
            ]
          },
          "metadata": {},
          "execution_count": 27
        }
      ]
    },
    {
      "cell_type": "code",
      "source": [
        "# collet the attribute name of second row\n",
        "df.collect()[1]['name']"
      ],
      "metadata": {
        "colab": {
          "base_uri": "https://localhost:8080/",
          "height": 35
        },
        "id": "5yTptEAUXLI8",
        "outputId": "cf7aefb9-b37c-460e-e19e-618300728938"
      },
      "execution_count": 28,
      "outputs": [
        {
          "output_type": "execute_result",
          "data": {
            "text/plain": [
              "'Mary'"
            ],
            "application/vnd.google.colaboratory.intrinsic+json": {
              "type": "string"
            }
          },
          "metadata": {},
          "execution_count": 28
        }
      ]
    },
    {
      "cell_type": "code",
      "source": [
        "# collect column 'name'\n",
        "[str(row['name']) for row in df.select('name').collect()]"
      ],
      "metadata": {
        "colab": {
          "base_uri": "https://localhost:8080/"
        },
        "id": "sfbXB-f5aG03",
        "outputId": "b0ce8c36-1a6f-442a-d2d3-bc7f083cf399"
      },
      "execution_count": 29,
      "outputs": [
        {
          "output_type": "execute_result",
          "data": {
            "text/plain": [
              "['Alice', 'Mary', 'Joan']"
            ]
          },
          "metadata": {},
          "execution_count": 29
        }
      ]
    },
    {
      "cell_type": "code",
      "source": [
        "# collect the first row\n",
        "df.take(1)"
      ],
      "metadata": {
        "colab": {
          "base_uri": "https://localhost:8080/"
        },
        "id": "Ko-HEHX6Xiyt",
        "outputId": "5ffde0c7-70e9-4fab-d12b-c528fd8f3cd6"
      },
      "execution_count": 30,
      "outputs": [
        {
          "output_type": "execute_result",
          "data": {
            "text/plain": [
              "[Row(name='Alice', age=33, code=151)]"
            ]
          },
          "metadata": {},
          "execution_count": 30
        }
      ]
    },
    {
      "cell_type": "code",
      "source": [
        "# converto to pandas dataframe\n",
        "df.toPandas()"
      ],
      "metadata": {
        "colab": {
          "base_uri": "https://localhost:8080/",
          "height": 143
        },
        "id": "aOfy1iQ7X2s-",
        "outputId": "38304d38-b9f7-4a77-831d-c311e6abb83c"
      },
      "execution_count": 31,
      "outputs": [
        {
          "output_type": "execute_result",
          "data": {
            "text/plain": [
              "    name  age   code\n",
              "0  Alice   33  151.0\n",
              "1   Mary   44    NaN\n",
              "2   Joan   55  983.0"
            ],
            "text/html": [
              "\n",
              "  <div id=\"df-2531464d-99b9-4e77-b967-ae80d395d5e4\" class=\"colab-df-container\">\n",
              "    <div>\n",
              "<style scoped>\n",
              "    .dataframe tbody tr th:only-of-type {\n",
              "        vertical-align: middle;\n",
              "    }\n",
              "\n",
              "    .dataframe tbody tr th {\n",
              "        vertical-align: top;\n",
              "    }\n",
              "\n",
              "    .dataframe thead th {\n",
              "        text-align: right;\n",
              "    }\n",
              "</style>\n",
              "<table border=\"1\" class=\"dataframe\">\n",
              "  <thead>\n",
              "    <tr style=\"text-align: right;\">\n",
              "      <th></th>\n",
              "      <th>name</th>\n",
              "      <th>age</th>\n",
              "      <th>code</th>\n",
              "    </tr>\n",
              "  </thead>\n",
              "  <tbody>\n",
              "    <tr>\n",
              "      <th>0</th>\n",
              "      <td>Alice</td>\n",
              "      <td>33</td>\n",
              "      <td>151.0</td>\n",
              "    </tr>\n",
              "    <tr>\n",
              "      <th>1</th>\n",
              "      <td>Mary</td>\n",
              "      <td>44</td>\n",
              "      <td>NaN</td>\n",
              "    </tr>\n",
              "    <tr>\n",
              "      <th>2</th>\n",
              "      <td>Joan</td>\n",
              "      <td>55</td>\n",
              "      <td>983.0</td>\n",
              "    </tr>\n",
              "  </tbody>\n",
              "</table>\n",
              "</div>\n",
              "    <div class=\"colab-df-buttons\">\n",
              "\n",
              "  <div class=\"colab-df-container\">\n",
              "    <button class=\"colab-df-convert\" onclick=\"convertToInteractive('df-2531464d-99b9-4e77-b967-ae80d395d5e4')\"\n",
              "            title=\"Convert this dataframe to an interactive table.\"\n",
              "            style=\"display:none;\">\n",
              "\n",
              "  <svg xmlns=\"http://www.w3.org/2000/svg\" height=\"24px\" viewBox=\"0 -960 960 960\">\n",
              "    <path d=\"M120-120v-720h720v720H120Zm60-500h600v-160H180v160Zm220 220h160v-160H400v160Zm0 220h160v-160H400v160ZM180-400h160v-160H180v160Zm440 0h160v-160H620v160ZM180-180h160v-160H180v160Zm440 0h160v-160H620v160Z\"/>\n",
              "  </svg>\n",
              "    </button>\n",
              "\n",
              "  <style>\n",
              "    .colab-df-container {\n",
              "      display:flex;\n",
              "      gap: 12px;\n",
              "    }\n",
              "\n",
              "    .colab-df-convert {\n",
              "      background-color: #E8F0FE;\n",
              "      border: none;\n",
              "      border-radius: 50%;\n",
              "      cursor: pointer;\n",
              "      display: none;\n",
              "      fill: #1967D2;\n",
              "      height: 32px;\n",
              "      padding: 0 0 0 0;\n",
              "      width: 32px;\n",
              "    }\n",
              "\n",
              "    .colab-df-convert:hover {\n",
              "      background-color: #E2EBFA;\n",
              "      box-shadow: 0px 1px 2px rgba(60, 64, 67, 0.3), 0px 1px 3px 1px rgba(60, 64, 67, 0.15);\n",
              "      fill: #174EA6;\n",
              "    }\n",
              "\n",
              "    .colab-df-buttons div {\n",
              "      margin-bottom: 4px;\n",
              "    }\n",
              "\n",
              "    [theme=dark] .colab-df-convert {\n",
              "      background-color: #3B4455;\n",
              "      fill: #D2E3FC;\n",
              "    }\n",
              "\n",
              "    [theme=dark] .colab-df-convert:hover {\n",
              "      background-color: #434B5C;\n",
              "      box-shadow: 0px 1px 3px 1px rgba(0, 0, 0, 0.15);\n",
              "      filter: drop-shadow(0px 1px 2px rgba(0, 0, 0, 0.3));\n",
              "      fill: #FFFFFF;\n",
              "    }\n",
              "  </style>\n",
              "\n",
              "    <script>\n",
              "      const buttonEl =\n",
              "        document.querySelector('#df-2531464d-99b9-4e77-b967-ae80d395d5e4 button.colab-df-convert');\n",
              "      buttonEl.style.display =\n",
              "        google.colab.kernel.accessAllowed ? 'block' : 'none';\n",
              "\n",
              "      async function convertToInteractive(key) {\n",
              "        const element = document.querySelector('#df-2531464d-99b9-4e77-b967-ae80d395d5e4');\n",
              "        const dataTable =\n",
              "          await google.colab.kernel.invokeFunction('convertToInteractive',\n",
              "                                                    [key], {});\n",
              "        if (!dataTable) return;\n",
              "\n",
              "        const docLinkHtml = 'Like what you see? Visit the ' +\n",
              "          '<a target=\"_blank\" href=https://colab.research.google.com/notebooks/data_table.ipynb>data table notebook</a>'\n",
              "          + ' to learn more about interactive tables.';\n",
              "        element.innerHTML = '';\n",
              "        dataTable['output_type'] = 'display_data';\n",
              "        await google.colab.output.renderOutput(dataTable, element);\n",
              "        const docLink = document.createElement('div');\n",
              "        docLink.innerHTML = docLinkHtml;\n",
              "        element.appendChild(docLink);\n",
              "      }\n",
              "    </script>\n",
              "  </div>\n",
              "\n",
              "\n",
              "<div id=\"df-847a2f98-756b-458c-8429-4801e2a49261\">\n",
              "  <button class=\"colab-df-quickchart\" onclick=\"quickchart('df-847a2f98-756b-458c-8429-4801e2a49261')\"\n",
              "            title=\"Suggest charts\"\n",
              "            style=\"display:none;\">\n",
              "\n",
              "<svg xmlns=\"http://www.w3.org/2000/svg\" height=\"24px\"viewBox=\"0 0 24 24\"\n",
              "     width=\"24px\">\n",
              "    <g>\n",
              "        <path d=\"M19 3H5c-1.1 0-2 .9-2 2v14c0 1.1.9 2 2 2h14c1.1 0 2-.9 2-2V5c0-1.1-.9-2-2-2zM9 17H7v-7h2v7zm4 0h-2V7h2v10zm4 0h-2v-4h2v4z\"/>\n",
              "    </g>\n",
              "</svg>\n",
              "  </button>\n",
              "\n",
              "<style>\n",
              "  .colab-df-quickchart {\n",
              "      --bg-color: #E8F0FE;\n",
              "      --fill-color: #1967D2;\n",
              "      --hover-bg-color: #E2EBFA;\n",
              "      --hover-fill-color: #174EA6;\n",
              "      --disabled-fill-color: #AAA;\n",
              "      --disabled-bg-color: #DDD;\n",
              "  }\n",
              "\n",
              "  [theme=dark] .colab-df-quickchart {\n",
              "      --bg-color: #3B4455;\n",
              "      --fill-color: #D2E3FC;\n",
              "      --hover-bg-color: #434B5C;\n",
              "      --hover-fill-color: #FFFFFF;\n",
              "      --disabled-bg-color: #3B4455;\n",
              "      --disabled-fill-color: #666;\n",
              "  }\n",
              "\n",
              "  .colab-df-quickchart {\n",
              "    background-color: var(--bg-color);\n",
              "    border: none;\n",
              "    border-radius: 50%;\n",
              "    cursor: pointer;\n",
              "    display: none;\n",
              "    fill: var(--fill-color);\n",
              "    height: 32px;\n",
              "    padding: 0;\n",
              "    width: 32px;\n",
              "  }\n",
              "\n",
              "  .colab-df-quickchart:hover {\n",
              "    background-color: var(--hover-bg-color);\n",
              "    box-shadow: 0 1px 2px rgba(60, 64, 67, 0.3), 0 1px 3px 1px rgba(60, 64, 67, 0.15);\n",
              "    fill: var(--button-hover-fill-color);\n",
              "  }\n",
              "\n",
              "  .colab-df-quickchart-complete:disabled,\n",
              "  .colab-df-quickchart-complete:disabled:hover {\n",
              "    background-color: var(--disabled-bg-color);\n",
              "    fill: var(--disabled-fill-color);\n",
              "    box-shadow: none;\n",
              "  }\n",
              "\n",
              "  .colab-df-spinner {\n",
              "    border: 2px solid var(--fill-color);\n",
              "    border-color: transparent;\n",
              "    border-bottom-color: var(--fill-color);\n",
              "    animation:\n",
              "      spin 1s steps(1) infinite;\n",
              "  }\n",
              "\n",
              "  @keyframes spin {\n",
              "    0% {\n",
              "      border-color: transparent;\n",
              "      border-bottom-color: var(--fill-color);\n",
              "      border-left-color: var(--fill-color);\n",
              "    }\n",
              "    20% {\n",
              "      border-color: transparent;\n",
              "      border-left-color: var(--fill-color);\n",
              "      border-top-color: var(--fill-color);\n",
              "    }\n",
              "    30% {\n",
              "      border-color: transparent;\n",
              "      border-left-color: var(--fill-color);\n",
              "      border-top-color: var(--fill-color);\n",
              "      border-right-color: var(--fill-color);\n",
              "    }\n",
              "    40% {\n",
              "      border-color: transparent;\n",
              "      border-right-color: var(--fill-color);\n",
              "      border-top-color: var(--fill-color);\n",
              "    }\n",
              "    60% {\n",
              "      border-color: transparent;\n",
              "      border-right-color: var(--fill-color);\n",
              "    }\n",
              "    80% {\n",
              "      border-color: transparent;\n",
              "      border-right-color: var(--fill-color);\n",
              "      border-bottom-color: var(--fill-color);\n",
              "    }\n",
              "    90% {\n",
              "      border-color: transparent;\n",
              "      border-bottom-color: var(--fill-color);\n",
              "    }\n",
              "  }\n",
              "</style>\n",
              "\n",
              "  <script>\n",
              "    async function quickchart(key) {\n",
              "      const quickchartButtonEl =\n",
              "        document.querySelector('#' + key + ' button');\n",
              "      quickchartButtonEl.disabled = true;  // To prevent multiple clicks.\n",
              "      quickchartButtonEl.classList.add('colab-df-spinner');\n",
              "      try {\n",
              "        const charts = await google.colab.kernel.invokeFunction(\n",
              "            'suggestCharts', [key], {});\n",
              "      } catch (error) {\n",
              "        console.error('Error during call to suggestCharts:', error);\n",
              "      }\n",
              "      quickchartButtonEl.classList.remove('colab-df-spinner');\n",
              "      quickchartButtonEl.classList.add('colab-df-quickchart-complete');\n",
              "    }\n",
              "    (() => {\n",
              "      let quickchartButtonEl =\n",
              "        document.querySelector('#df-847a2f98-756b-458c-8429-4801e2a49261 button');\n",
              "      quickchartButtonEl.style.display =\n",
              "        google.colab.kernel.accessAllowed ? 'block' : 'none';\n",
              "    })();\n",
              "  </script>\n",
              "</div>\n",
              "    </div>\n",
              "  </div>\n"
            ],
            "application/vnd.google.colaboratory.intrinsic+json": {
              "type": "dataframe",
              "summary": "{\n  \"name\": \"df\",\n  \"rows\": 3,\n  \"fields\": [\n    {\n      \"column\": \"name\",\n      \"properties\": {\n        \"dtype\": \"string\",\n        \"num_unique_values\": 3,\n        \"samples\": [\n          \"Alice\",\n          \"Mary\",\n          \"Joan\"\n        ],\n        \"semantic_type\": \"\",\n        \"description\": \"\"\n      }\n    },\n    {\n      \"column\": \"age\",\n      \"properties\": {\n        \"dtype\": \"int32\",\n        \"num_unique_values\": 3,\n        \"samples\": [\n          33,\n          44,\n          55\n        ],\n        \"semantic_type\": \"\",\n        \"description\": \"\"\n      }\n    },\n    {\n      \"column\": \"code\",\n      \"properties\": {\n        \"dtype\": \"number\",\n        \"std\": 588.3128419472075,\n        \"min\": 151.0,\n        \"max\": 983.0,\n        \"num_unique_values\": 2,\n        \"samples\": [\n          983.0,\n          151.0\n        ],\n        \"semantic_type\": \"\",\n        \"description\": \"\"\n      }\n    }\n  ]\n}"
            }
          },
          "metadata": {},
          "execution_count": 31
        }
      ]
    },
    {
      "cell_type": "code",
      "source": [
        "# describe some summary statistics of DataFrame\n",
        "df.describe().show()"
      ],
      "metadata": {
        "colab": {
          "base_uri": "https://localhost:8080/"
        },
        "id": "AU26D3jtdiWF",
        "outputId": "6efb7c2a-944a-44da-e65a-8070ebdaff4f"
      },
      "execution_count": 32,
      "outputs": [
        {
          "output_type": "stream",
          "name": "stdout",
          "text": [
            "+-------+-----+----+-----------------+\n",
            "|summary| name| age|             code|\n",
            "+-------+-----+----+-----------------+\n",
            "|  count|    3|   3|                2|\n",
            "|   mean| NULL|44.0|            567.0|\n",
            "| stddev| NULL|11.0|588.3128419472075|\n",
            "|    min|Alice|  33|              151|\n",
            "|    max| Mary|  55|              983|\n",
            "+-------+-----+----+-----------------+\n",
            "\n"
          ]
        }
      ]
    },
    {
      "cell_type": "markdown",
      "source": [
        "### Word Count"
      ],
      "metadata": {
        "id": "4AG7OsdxFZJ3"
      }
    },
    {
      "cell_type": "code",
      "source": [
        "# count number of lines and number of lines containing the word Moby\n",
        "df = spark.read.text(EBOOK_FILE) # read file to DataFrame\n",
        "print(df.count())\n",
        "print(df.filter(f.col(\"value\").contains(\"Moby\")).count())\n",
        "print(df.filter(df.value.contains(\"Moby\")).count()) # equal to the previous line"
      ],
      "metadata": {
        "colab": {
          "base_uri": "https://localhost:8080/"
        },
        "id": "Z4LhTtpNLIy5",
        "outputId": "090d0bce-c0b7-44ec-ee87-c72eee3bcd0e"
      },
      "execution_count": 33,
      "outputs": [
        {
          "output_type": "stream",
          "name": "stdout",
          "text": [
            "22316\n",
            "83\n",
            "83\n"
          ]
        }
      ]
    },
    {
      "cell_type": "code",
      "source": [
        "# word count - with withColumn\n",
        "df.withColumn('word', f.explode(f.split(f.lower(f.col('value')), ' ')))\\\n",
        "    .groupBy('word')\\\n",
        "    .count()\\\n",
        "    .sort('count', ascending=False)\\\n",
        "    .show(10)"
      ],
      "metadata": {
        "colab": {
          "base_uri": "https://localhost:8080/"
        },
        "id": "4Oe6xCTYpjGD",
        "outputId": "4bd22f49-8c10-41f4-942b-775a00d482e0"
      },
      "execution_count": 34,
      "outputs": [
        {
          "output_type": "stream",
          "name": "stdout",
          "text": [
            "+----+-----+\n",
            "|word|count|\n",
            "+----+-----+\n",
            "| the|14512|\n",
            "|  of| 6683|\n",
            "| and| 6322|\n",
            "|   a| 4663|\n",
            "|  to| 4599|\n",
            "|  in| 4126|\n",
            "|    | 4119|\n",
            "|that| 2748|\n",
            "| his| 2485|\n",
            "|  it| 1777|\n",
            "+----+-----+\n",
            "only showing top 10 rows\n",
            "\n"
          ]
        }
      ]
    },
    {
      "cell_type": "code",
      "source": [
        "# word count - with select\n",
        "df.select(f.explode(f.split(f.lower(f.col('value')), ' ')).alias(\"word\"))\\\n",
        "    .groupBy('word')\\\n",
        "    .count()\\\n",
        "    .orderBy(f.col('count').desc())\\\n",
        "    .show(10)"
      ],
      "metadata": {
        "colab": {
          "base_uri": "https://localhost:8080/"
        },
        "id": "7yMlC1YixiQF",
        "outputId": "a153e866-6a6c-45cb-c5f4-8b81f45548e6"
      },
      "execution_count": 35,
      "outputs": [
        {
          "output_type": "stream",
          "name": "stdout",
          "text": [
            "+----+-----+\n",
            "|word|count|\n",
            "+----+-----+\n",
            "| the|14512|\n",
            "|  of| 6683|\n",
            "| and| 6322|\n",
            "|   a| 4663|\n",
            "|  to| 4599|\n",
            "|  in| 4126|\n",
            "|    | 4119|\n",
            "|that| 2748|\n",
            "| his| 2485|\n",
            "|  it| 1777|\n",
            "+----+-----+\n",
            "only showing top 10 rows\n",
            "\n"
          ]
        }
      ]
    },
    {
      "cell_type": "markdown",
      "source": [
        "### Total Words"
      ],
      "metadata": {
        "id": "7FA3Uqv-N748"
      }
    },
    {
      "cell_type": "code",
      "source": [
        "# count total number of words\n",
        "df.select(f.explode(f.split(f.col('value'), ' ')).alias(\"word\"))\\\n",
        "    .filter(f.col('word')!='')\\\n",
        "    .count()"
      ],
      "metadata": {
        "colab": {
          "base_uri": "https://localhost:8080/"
        },
        "id": "F_cAnAwhN_98",
        "outputId": "68c593f6-644e-44b0-c501-db6166a3d354"
      },
      "execution_count": 36,
      "outputs": [
        {
          "output_type": "execute_result",
          "data": {
            "text/plain": [
              "215864"
            ]
          },
          "metadata": {},
          "execution_count": 36
        }
      ]
    },
    {
      "cell_type": "markdown",
      "source": [
        "### Using UDF"
      ],
      "metadata": {
        "id": "Auq__RF7gaTK"
      }
    },
    {
      "cell_type": "code",
      "source": [
        "import pandas as pd\n",
        "from pyspark.sql.functions import pandas_udf"
      ],
      "metadata": {
        "id": "tHdPN4N0ghLL"
      },
      "execution_count": 37,
      "outputs": []
    },
    {
      "cell_type": "code",
      "source": [
        "# create dataframe\n",
        "df = spark.createDataFrame(col_values, schema)\n",
        "df.show()"
      ],
      "metadata": {
        "colab": {
          "base_uri": "https://localhost:8080/"
        },
        "id": "-lp8L7kKjuYE",
        "outputId": "fcf5685f-9950-4349-c26c-c92281967513"
      },
      "execution_count": 38,
      "outputs": [
        {
          "output_type": "stream",
          "name": "stdout",
          "text": [
            "+-----+---+----+\n",
            "| name|age|code|\n",
            "+-----+---+----+\n",
            "|Alice| 33| 151|\n",
            "| Mary| 44|NULL|\n",
            "| Joan| 55| 983|\n",
            "+-----+---+----+\n",
            "\n"
          ]
        }
      ]
    },
    {
      "cell_type": "code",
      "source": [
        "# create a function\n",
        "def square(x):\n",
        "    return int(x**2)\n",
        "\n",
        "# convert function to UDF function\n",
        "square_udf = f.udf(lambda a: square(a), IntegerType())\n",
        "\n",
        "# apply function\n",
        "df.select('age', square_udf('age').alias('square_age')).show()"
      ],
      "metadata": {
        "colab": {
          "base_uri": "https://localhost:8080/"
        },
        "id": "YsRloHOwn6f8",
        "outputId": "f7bf6f54-f0f3-407f-fa12-ab51e1b049ff"
      },
      "execution_count": 39,
      "outputs": [
        {
          "output_type": "stream",
          "name": "stdout",
          "text": [
            "+---+----------+\n",
            "|age|square_age|\n",
            "+---+----------+\n",
            "| 33|      1089|\n",
            "| 44|      1936|\n",
            "| 55|      3025|\n",
            "+---+----------+\n",
            "\n"
          ]
        }
      ]
    },
    {
      "cell_type": "code",
      "source": [
        "# create an UDF function using annotation syntax\n",
        "#@f.udf(returnType=IntegerType())\n",
        "@f.udf('int')\n",
        "def len_udf(s):\n",
        "    return len(s)\n",
        "\n",
        "# apply function\n",
        "df.select('name', len_udf('name').alias('len_name')).show()"
      ],
      "metadata": {
        "colab": {
          "base_uri": "https://localhost:8080/"
        },
        "id": "xd68nV2R40yY",
        "outputId": "e7631265-6768-4727-fb64-3d8104adcd8c"
      },
      "execution_count": 40,
      "outputs": [
        {
          "output_type": "stream",
          "name": "stdout",
          "text": [
            "+-----+--------+\n",
            "| name|len_name|\n",
            "+-----+--------+\n",
            "|Alice|       5|\n",
            "| Mary|       4|\n",
            "| Joan|       4|\n",
            "+-----+--------+\n",
            "\n"
          ]
        }
      ]
    },
    {
      "cell_type": "markdown",
      "source": [
        "### Using SQL"
      ],
      "metadata": {
        "id": "fyvu5lFhPA0_"
      }
    },
    {
      "cell_type": "code",
      "source": [
        "# register the dataframe as a SQL temporary view\n",
        "df.createOrReplaceTempView(\"test_table\")\n",
        "\n",
        "# query view/dataframe\n",
        "spark.sql(\"select * from test_table\").show()"
      ],
      "metadata": {
        "colab": {
          "base_uri": "https://localhost:8080/"
        },
        "id": "qqRF0j9QPbOu",
        "outputId": "9815db72-8c99-4e78-8741-80f587b25bda"
      },
      "execution_count": 41,
      "outputs": [
        {
          "output_type": "stream",
          "name": "stdout",
          "text": [
            "+-----+---+----+\n",
            "| name|age|code|\n",
            "+-----+---+----+\n",
            "|Alice| 33| 151|\n",
            "| Mary| 44|NULL|\n",
            "| Joan| 55| 983|\n",
            "+-----+---+----+\n",
            "\n"
          ]
        }
      ]
    },
    {
      "cell_type": "code",
      "source": [
        "# query view/dataframe to count by name\n",
        "spark.sql(\"select count(*), name from test_table group by name\").show()"
      ],
      "metadata": {
        "colab": {
          "base_uri": "https://localhost:8080/"
        },
        "id": "Widn4PvERez8",
        "outputId": "686a7d49-f930-4eee-8f36-f267c89c98c1"
      },
      "execution_count": 42,
      "outputs": [
        {
          "output_type": "stream",
          "name": "stdout",
          "text": [
            "+--------+-----+\n",
            "|count(1)| name|\n",
            "+--------+-----+\n",
            "|       1|Alice|\n",
            "|       1| Mary|\n",
            "|       1| Joan|\n",
            "+--------+-----+\n",
            "\n"
          ]
        }
      ]
    },
    {
      "cell_type": "code",
      "source": [
        "# query view/dataframe with aggregation functions\n",
        "spark.sql(\"select AVG(age), MIN(age), MAX(age) from test_table where age>40\").show()"
      ],
      "metadata": {
        "colab": {
          "base_uri": "https://localhost:8080/"
        },
        "id": "llgaMrnYPjtm",
        "outputId": "86fd2ac2-8773-4f08-e3fd-1bc3ef4185c1"
      },
      "execution_count": 43,
      "outputs": [
        {
          "output_type": "stream",
          "name": "stdout",
          "text": [
            "+--------+--------+--------+\n",
            "|avg(age)|min(age)|max(age)|\n",
            "+--------+--------+--------+\n",
            "|    49.5|      44|      55|\n",
            "+--------+--------+--------+\n",
            "\n"
          ]
        }
      ]
    },
    {
      "cell_type": "code",
      "source": [
        "# register udf function\n",
        "spark.udf.register(\"square_udf\", square_udf)\n",
        "\n",
        "# query with udf function\n",
        "spark.sql(\"select age, square_udf(age) from test_table\").show()"
      ],
      "metadata": {
        "colab": {
          "base_uri": "https://localhost:8080/"
        },
        "id": "ufcEFEi77Vhh",
        "outputId": "0f38b733-c79e-42f4-8048-a01d42c47a78"
      },
      "execution_count": 44,
      "outputs": [
        {
          "output_type": "stream",
          "name": "stdout",
          "text": [
            "+---+---------------+\n",
            "|age|square_udf(age)|\n",
            "+---+---------------+\n",
            "| 33|           1089|\n",
            "| 44|           1936|\n",
            "| 55|           3025|\n",
            "+---+---------------+\n",
            "\n"
          ]
        }
      ]
    },
    {
      "cell_type": "markdown",
      "source": [
        "### Persistence & Query Optimization"
      ],
      "metadata": {
        "id": "_QjQqxg3bGk9"
      }
    },
    {
      "cell_type": "code",
      "source": [
        "# create DataFrame\n",
        "df = spark.createDataFrame(col_values, schema)\n",
        "df.show()"
      ],
      "metadata": {
        "colab": {
          "base_uri": "https://localhost:8080/"
        },
        "id": "81Oz7ZrghL9N",
        "outputId": "adc3c429-4d29-44ad-cc3d-77ef9a7b660f"
      },
      "execution_count": 45,
      "outputs": [
        {
          "output_type": "stream",
          "name": "stdout",
          "text": [
            "+-----+---+----+\n",
            "| name|age|code|\n",
            "+-----+---+----+\n",
            "|Alice| 33| 151|\n",
            "| Mary| 44|NULL|\n",
            "| Joan| 55| 983|\n",
            "+-----+---+----+\n",
            "\n"
          ]
        }
      ]
    },
    {
      "cell_type": "code",
      "source": [
        "# determining whether it is cached\n",
        "print(\"is cached = %s \\n\" % df.is_cached)\n",
        "\n",
        "# prints the logical and physical plans\n",
        "df.explain(True)"
      ],
      "metadata": {
        "colab": {
          "base_uri": "https://localhost:8080/"
        },
        "id": "LQJNQ23r4IMl",
        "outputId": "f8889f8f-7c4f-4e6f-ffb4-e1c35c597593"
      },
      "execution_count": 46,
      "outputs": [
        {
          "output_type": "stream",
          "name": "stdout",
          "text": [
            "is cached = False \n",
            "\n",
            "== Parsed Logical Plan ==\n",
            "LogicalRDD [name#554, age#555, code#556], false\n",
            "\n",
            "== Analyzed Logical Plan ==\n",
            "name: string, age: int, code: int\n",
            "LogicalRDD [name#554, age#555, code#556], false\n",
            "\n",
            "== Optimized Logical Plan ==\n",
            "LogicalRDD [name#554, age#555, code#556], false\n",
            "\n",
            "== Physical Plan ==\n",
            "*(1) Scan ExistingRDD[name#554,age#555,code#556]\n",
            "\n"
          ]
        }
      ]
    },
    {
      "cell_type": "code",
      "source": [
        "# apply some transformations, print the execution plans & see the optimizations (compare logical & pyshical plans)\n",
        "df = df\\\n",
        "    .withColumn('age', f.col('age')+f.lit(1))\\\n",
        "    .filter(f.col('name')!='Mary')\\\n",
        "    .withColumn('age', f.col('age')*f.lit(2))\n",
        "df.show()\n",
        "df.explain(True)"
      ],
      "metadata": {
        "colab": {
          "base_uri": "https://localhost:8080/"
        },
        "id": "0KrdpUnw4Xl2",
        "outputId": "c077ba38-8233-48d7-a56c-29a6017583a9"
      },
      "execution_count": 47,
      "outputs": [
        {
          "output_type": "stream",
          "name": "stdout",
          "text": [
            "+-----+---+----+\n",
            "| name|age|code|\n",
            "+-----+---+----+\n",
            "|Alice| 68| 151|\n",
            "| Joan|112| 983|\n",
            "+-----+---+----+\n",
            "\n",
            "== Parsed Logical Plan ==\n",
            "'Project [name#554, ('age * 2) AS age#577, code#556]\n",
            "+- Filter NOT (name#554 = Mary)\n",
            "   +- Project [name#554, (age#555 + 1) AS age#573, code#556]\n",
            "      +- LogicalRDD [name#554, age#555, code#556], false\n",
            "\n",
            "== Analyzed Logical Plan ==\n",
            "name: string, age: int, code: int\n",
            "Project [name#554, (age#573 * 2) AS age#577, code#556]\n",
            "+- Filter NOT (name#554 = Mary)\n",
            "   +- Project [name#554, (age#555 + 1) AS age#573, code#556]\n",
            "      +- LogicalRDD [name#554, age#555, code#556], false\n",
            "\n",
            "== Optimized Logical Plan ==\n",
            "Project [name#554, ((age#555 + 1) * 2) AS age#577, code#556]\n",
            "+- Filter (isnotnull(name#554) AND NOT (name#554 = Mary))\n",
            "   +- LogicalRDD [name#554, age#555, code#556], false\n",
            "\n",
            "== Physical Plan ==\n",
            "*(1) Project [name#554, ((age#555 + 1) * 2) AS age#577, code#556]\n",
            "+- *(1) Filter (isnotnull(name#554) AND NOT (name#554 = Mary))\n",
            "   +- *(1) Scan ExistingRDD[name#554,age#555,code#556]\n",
            "\n"
          ]
        }
      ]
    },
    {
      "cell_type": "code",
      "source": [
        "# cache dataframe\n",
        "df.cache() # or df.persist(StorageLevel.MEMORY_ONLY)\n",
        "df.count() # action to force cache\n",
        "print(\"is cached = %s \\n\" % df.is_cached)"
      ],
      "metadata": {
        "colab": {
          "base_uri": "https://localhost:8080/"
        },
        "id": "XqHMWC194yyO",
        "outputId": "18c42e18-325d-4e8b-9591-337ac7a75f07"
      },
      "execution_count": 48,
      "outputs": [
        {
          "output_type": "stream",
          "name": "stdout",
          "text": [
            "is cached = True \n",
            "\n"
          ]
        }
      ]
    },
    {
      "cell_type": "code",
      "source": [
        "# apply transformation & see that the execution plan uses the cache\n",
        "df2 = df.withColumn('age', f.col('age')+f.lit(1))\n",
        "df2.explain(True)"
      ],
      "metadata": {
        "colab": {
          "base_uri": "https://localhost:8080/"
        },
        "id": "Wc8Pl2h8SNr5",
        "outputId": "7d5d37ac-de8c-4e69-da5d-ed7cacdae691"
      },
      "execution_count": 49,
      "outputs": [
        {
          "output_type": "stream",
          "name": "stdout",
          "text": [
            "== Parsed Logical Plan ==\n",
            "'Project [name#554, ('age + 1) AS age#692, code#556]\n",
            "+- Project [name#554, (age#573 * 2) AS age#577, code#556]\n",
            "   +- Filter NOT (name#554 = Mary)\n",
            "      +- Project [name#554, (age#555 + 1) AS age#573, code#556]\n",
            "         +- LogicalRDD [name#554, age#555, code#556], false\n",
            "\n",
            "== Analyzed Logical Plan ==\n",
            "name: string, age: int, code: int\n",
            "Project [name#554, (age#577 + 1) AS age#692, code#556]\n",
            "+- Project [name#554, (age#573 * 2) AS age#577, code#556]\n",
            "   +- Filter NOT (name#554 = Mary)\n",
            "      +- Project [name#554, (age#555 + 1) AS age#573, code#556]\n",
            "         +- LogicalRDD [name#554, age#555, code#556], false\n",
            "\n",
            "== Optimized Logical Plan ==\n",
            "Project [name#554, (age#577 + 1) AS age#692, code#556]\n",
            "+- InMemoryRelation [name#554, age#577, code#556], StorageLevel(disk, memory, deserialized, 1 replicas)\n",
            "      +- *(1) Project [name#554, ((age#555 + 1) * 2) AS age#577, code#556]\n",
            "         +- *(1) Filter (isnotnull(name#554) AND NOT (name#554 = Mary))\n",
            "            +- *(1) Scan ExistingRDD[name#554,age#555,code#556]\n",
            "\n",
            "== Physical Plan ==\n",
            "AdaptiveSparkPlan isFinalPlan=false\n",
            "+- Project [name#554, (age#577 + 1) AS age#692, code#556]\n",
            "   +- InMemoryTableScan [age#577, code#556, name#554]\n",
            "         +- InMemoryRelation [name#554, age#577, code#556], StorageLevel(disk, memory, deserialized, 1 replicas)\n",
            "               +- *(1) Project [name#554, ((age#555 + 1) * 2) AS age#577, code#556]\n",
            "                  +- *(1) Filter (isnotnull(name#554) AND NOT (name#554 = Mary))\n",
            "                     +- *(1) Scan ExistingRDD[name#554,age#555,code#556]\n",
            "\n"
          ]
        }
      ]
    },
    {
      "cell_type": "markdown",
      "source": [
        "### Reading/Writing DataFrame to File"
      ],
      "metadata": {
        "id": "WmdGtK-0Hd98"
      }
    },
    {
      "cell_type": "code",
      "source": [
        "df.show()"
      ],
      "metadata": {
        "colab": {
          "base_uri": "https://localhost:8080/"
        },
        "id": "CKUYjqhH_BkU",
        "outputId": "0febc938-3371-422e-e56a-51e43f44ac13"
      },
      "execution_count": 50,
      "outputs": [
        {
          "output_type": "stream",
          "name": "stdout",
          "text": [
            "+-----+---+----+\n",
            "| name|age|code|\n",
            "+-----+---+----+\n",
            "|Alice| 68| 151|\n",
            "| Joan|112| 983|\n",
            "+-----+---+----+\n",
            "\n"
          ]
        }
      ]
    },
    {
      "cell_type": "code",
      "source": [
        "# save dataframe to csv file\n",
        "df.write.csv('dataframe.csv', header=True)\n",
        "!cat dataframe.csv/*"
      ],
      "metadata": {
        "colab": {
          "base_uri": "https://localhost:8080/"
        },
        "id": "xyoF_uJR-oD_",
        "outputId": "d1394f27-62e4-47b8-e22a-63b868839667"
      },
      "execution_count": 51,
      "outputs": [
        {
          "output_type": "stream",
          "name": "stdout",
          "text": [
            "name,age,code\n",
            "Alice,68,151\n",
            "name,age,code\n",
            "Joan,112,983\n"
          ]
        }
      ]
    },
    {
      "cell_type": "code",
      "source": [
        "# load dataframe from csv file\n",
        "df2 = spark.read.csv('dataframe.csv', header=True).show()"
      ],
      "metadata": {
        "colab": {
          "base_uri": "https://localhost:8080/"
        },
        "id": "NaJKbhVLBOKL",
        "outputId": "e30dc2fe-8b49-4f8f-b43e-ae27b0b4cc5e"
      },
      "execution_count": 52,
      "outputs": [
        {
          "output_type": "stream",
          "name": "stdout",
          "text": [
            "+-----+---+----+\n",
            "| name|age|code|\n",
            "+-----+---+----+\n",
            "| Joan|112| 983|\n",
            "|Alice| 68| 151|\n",
            "+-----+---+----+\n",
            "\n"
          ]
        }
      ]
    },
    {
      "cell_type": "code",
      "source": [
        "# save dataframe to parquet file\n",
        "df.write.parquet('dataframe.parquet')"
      ],
      "metadata": {
        "id": "rpVPPl_FL_z4"
      },
      "execution_count": 53,
      "outputs": []
    },
    {
      "cell_type": "code",
      "source": [
        "# load dataframe from parquet file\n",
        "df2 = spark.read.parquet('dataframe.parquet').show()"
      ],
      "metadata": {
        "colab": {
          "base_uri": "https://localhost:8080/"
        },
        "id": "f9lC06D-BbUA",
        "outputId": "bfee71f1-ed61-40bd-90a5-a0f0ea948965"
      },
      "execution_count": 54,
      "outputs": [
        {
          "output_type": "stream",
          "name": "stdout",
          "text": [
            "+-----+---+----+\n",
            "| name|age|code|\n",
            "+-----+---+----+\n",
            "|Alice| 68| 151|\n",
            "| Joan|112| 983|\n",
            "+-----+---+----+\n",
            "\n"
          ]
        }
      ]
    },
    {
      "cell_type": "markdown",
      "source": [
        "<a name=\"challenge\"></a>\n",
        "# Real Challenge"
      ],
      "metadata": {
        "id": "yD5v3bija1J2"
      }
    },
    {
      "cell_type": "markdown",
      "source": [
        "Example of a few operations to clean an prepare a dataset for Machine Learning algorithms using the New York City Airbnb Open Data dataset (https://www.kaggle.com/dgomonov/new-york-city-airbnb-open-data/).\n",
        "- AB_NYC_2019.csv contains 16 columns (id, name, host_id, host_name, ..., price)"
      ],
      "metadata": {
        "id": "6gBwbXFne3AQ"
      }
    },
    {
      "cell_type": "markdown",
      "source": [
        "### Get & Describe Dataset"
      ],
      "metadata": {
        "id": "RLMA5F00A0f7"
      }
    },
    {
      "cell_type": "code",
      "source": [
        "# download dataset\n",
        "!wget https://raw.githubusercontent.com/malcosta/bigdatatechnologies/main/data/AB_NYC_2019.csv -O ~/AB_NYC_2019.csv"
      ],
      "metadata": {
        "colab": {
          "base_uri": "https://localhost:8080/"
        },
        "id": "3H8viBhsgM7i",
        "outputId": "3cbad7d2-b486-4ee0-e926-9772c914f45d"
      },
      "execution_count": 61,
      "outputs": [
        {
          "output_type": "stream",
          "name": "stdout",
          "text": [
            "--2024-05-07 09:31:08--  https://raw.githubusercontent.com/malcosta/bigdatatechnologies/main/data/AB_NYC_2019.csv\n",
            "Resolving raw.githubusercontent.com (raw.githubusercontent.com)... 185.199.109.133, 185.199.110.133, 185.199.111.133, ...\n",
            "Connecting to raw.githubusercontent.com (raw.githubusercontent.com)|185.199.109.133|:443... connected.\n",
            "HTTP request sent, awaiting response... 200 OK\n",
            "Length: 7077973 (6.8M) [text/plain]\n",
            "Saving to: ‘/root/AB_NYC_2019.csv’\n",
            "\n",
            "\r/root/AB_NYC_2019.c   0%[                    ]       0  --.-KB/s               \r/root/AB_NYC_2019.c 100%[===================>]   6.75M  --.-KB/s    in 0.08s   \n",
            "\n",
            "2024-05-07 09:31:08 (81.0 MB/s) - ‘/root/AB_NYC_2019.csv’ saved [7077973/7077973]\n",
            "\n"
          ]
        }
      ]
    },
    {
      "cell_type": "code",
      "source": [
        "# load dataframe from csv file\n",
        "df = spark.read.csv('/root/AB_NYC_2019.csv', header=True)\n",
        "\n",
        "# print dataset size\n",
        "print(\"rows %d, columns %d \" % (df.count(), len(df.columns)))\n",
        "\n",
        "# print dataframe schema\n",
        "df.printSchema()"
      ],
      "metadata": {
        "colab": {
          "base_uri": "https://localhost:8080/"
        },
        "id": "wnYTTuJdaykK",
        "outputId": "4863d140-f4b4-4499-894f-c1cd8262ed54"
      },
      "execution_count": 62,
      "outputs": [
        {
          "output_type": "stream",
          "name": "stdout",
          "text": [
            "rows 49079, columns 16 \n",
            "root\n",
            " |-- id: string (nullable = true)\n",
            " |-- name: string (nullable = true)\n",
            " |-- host_id: string (nullable = true)\n",
            " |-- host_name: string (nullable = true)\n",
            " |-- neighbourhood_group: string (nullable = true)\n",
            " |-- neighbourhood: string (nullable = true)\n",
            " |-- latitude: string (nullable = true)\n",
            " |-- longitude: string (nullable = true)\n",
            " |-- room_type: string (nullable = true)\n",
            " |-- price: string (nullable = true)\n",
            " |-- minimum_nights: string (nullable = true)\n",
            " |-- number_of_reviews: string (nullable = true)\n",
            " |-- last_review: string (nullable = true)\n",
            " |-- reviews_per_month: string (nullable = true)\n",
            " |-- calculated_host_listings_count: string (nullable = true)\n",
            " |-- availability_365: string (nullable = true)\n",
            "\n"
          ]
        }
      ]
    },
    {
      "cell_type": "code",
      "source": [
        "# show top 5 rows in pandas dataframe\n",
        "df.limit(5).toPandas()"
      ],
      "metadata": {
        "colab": {
          "base_uri": "https://localhost:8080/",
          "height": 417
        },
        "id": "a2sNjAgnh6ZI",
        "outputId": "ff1039ad-8f3f-471b-d85c-9574b1e39217"
      },
      "execution_count": 63,
      "outputs": [
        {
          "output_type": "execute_result",
          "data": {
            "text/plain": [
              "     id                                              name host_id  \\\n",
              "0  2539                Clean & quiet apt home by the park    2787   \n",
              "1  2595                             Skylit Midtown Castle    2845   \n",
              "2  3647               THE VILLAGE OF HARLEM....NEW YORK !    4632   \n",
              "3  3831                   Cozy Entire Floor of Brownstone    4869   \n",
              "4  5022  Entire Apt: Spacious Studio/Loft by central park    7192   \n",
              "\n",
              "     host_name neighbourhood_group neighbourhood  latitude  longitude  \\\n",
              "0         John            Brooklyn    Kensington  40.64749  -73.97237   \n",
              "1     Jennifer           Manhattan       Midtown  40.75362  -73.98377   \n",
              "2    Elisabeth           Manhattan        Harlem  40.80902   -73.9419   \n",
              "3  LisaRoxanne            Brooklyn  Clinton Hill  40.68514  -73.95976   \n",
              "4        Laura           Manhattan   East Harlem  40.79851  -73.94399   \n",
              "\n",
              "         room_type price minimum_nights number_of_reviews last_review  \\\n",
              "0     Private room   149              1                 9  2018-10-19   \n",
              "1  Entire home/apt   225              1                45  2019-05-21   \n",
              "2     Private room   150              3                 0        None   \n",
              "3  Entire home/apt    89              1               270  2019-07-05   \n",
              "4  Entire home/apt    80             10                 9  2018-11-19   \n",
              "\n",
              "  reviews_per_month calculated_host_listings_count availability_365  \n",
              "0              0.21                              6              365  \n",
              "1              0.38                              2              355  \n",
              "2              None                              1              365  \n",
              "3              4.64                              1              194  \n",
              "4              0.10                              1                0  "
            ],
            "text/html": [
              "\n",
              "  <div id=\"df-081788dd-aa48-42f1-a734-d56771cd5325\" class=\"colab-df-container\">\n",
              "    <div>\n",
              "<style scoped>\n",
              "    .dataframe tbody tr th:only-of-type {\n",
              "        vertical-align: middle;\n",
              "    }\n",
              "\n",
              "    .dataframe tbody tr th {\n",
              "        vertical-align: top;\n",
              "    }\n",
              "\n",
              "    .dataframe thead th {\n",
              "        text-align: right;\n",
              "    }\n",
              "</style>\n",
              "<table border=\"1\" class=\"dataframe\">\n",
              "  <thead>\n",
              "    <tr style=\"text-align: right;\">\n",
              "      <th></th>\n",
              "      <th>id</th>\n",
              "      <th>name</th>\n",
              "      <th>host_id</th>\n",
              "      <th>host_name</th>\n",
              "      <th>neighbourhood_group</th>\n",
              "      <th>neighbourhood</th>\n",
              "      <th>latitude</th>\n",
              "      <th>longitude</th>\n",
              "      <th>room_type</th>\n",
              "      <th>price</th>\n",
              "      <th>minimum_nights</th>\n",
              "      <th>number_of_reviews</th>\n",
              "      <th>last_review</th>\n",
              "      <th>reviews_per_month</th>\n",
              "      <th>calculated_host_listings_count</th>\n",
              "      <th>availability_365</th>\n",
              "    </tr>\n",
              "  </thead>\n",
              "  <tbody>\n",
              "    <tr>\n",
              "      <th>0</th>\n",
              "      <td>2539</td>\n",
              "      <td>Clean &amp; quiet apt home by the park</td>\n",
              "      <td>2787</td>\n",
              "      <td>John</td>\n",
              "      <td>Brooklyn</td>\n",
              "      <td>Kensington</td>\n",
              "      <td>40.64749</td>\n",
              "      <td>-73.97237</td>\n",
              "      <td>Private room</td>\n",
              "      <td>149</td>\n",
              "      <td>1</td>\n",
              "      <td>9</td>\n",
              "      <td>2018-10-19</td>\n",
              "      <td>0.21</td>\n",
              "      <td>6</td>\n",
              "      <td>365</td>\n",
              "    </tr>\n",
              "    <tr>\n",
              "      <th>1</th>\n",
              "      <td>2595</td>\n",
              "      <td>Skylit Midtown Castle</td>\n",
              "      <td>2845</td>\n",
              "      <td>Jennifer</td>\n",
              "      <td>Manhattan</td>\n",
              "      <td>Midtown</td>\n",
              "      <td>40.75362</td>\n",
              "      <td>-73.98377</td>\n",
              "      <td>Entire home/apt</td>\n",
              "      <td>225</td>\n",
              "      <td>1</td>\n",
              "      <td>45</td>\n",
              "      <td>2019-05-21</td>\n",
              "      <td>0.38</td>\n",
              "      <td>2</td>\n",
              "      <td>355</td>\n",
              "    </tr>\n",
              "    <tr>\n",
              "      <th>2</th>\n",
              "      <td>3647</td>\n",
              "      <td>THE VILLAGE OF HARLEM....NEW YORK !</td>\n",
              "      <td>4632</td>\n",
              "      <td>Elisabeth</td>\n",
              "      <td>Manhattan</td>\n",
              "      <td>Harlem</td>\n",
              "      <td>40.80902</td>\n",
              "      <td>-73.9419</td>\n",
              "      <td>Private room</td>\n",
              "      <td>150</td>\n",
              "      <td>3</td>\n",
              "      <td>0</td>\n",
              "      <td>None</td>\n",
              "      <td>None</td>\n",
              "      <td>1</td>\n",
              "      <td>365</td>\n",
              "    </tr>\n",
              "    <tr>\n",
              "      <th>3</th>\n",
              "      <td>3831</td>\n",
              "      <td>Cozy Entire Floor of Brownstone</td>\n",
              "      <td>4869</td>\n",
              "      <td>LisaRoxanne</td>\n",
              "      <td>Brooklyn</td>\n",
              "      <td>Clinton Hill</td>\n",
              "      <td>40.68514</td>\n",
              "      <td>-73.95976</td>\n",
              "      <td>Entire home/apt</td>\n",
              "      <td>89</td>\n",
              "      <td>1</td>\n",
              "      <td>270</td>\n",
              "      <td>2019-07-05</td>\n",
              "      <td>4.64</td>\n",
              "      <td>1</td>\n",
              "      <td>194</td>\n",
              "    </tr>\n",
              "    <tr>\n",
              "      <th>4</th>\n",
              "      <td>5022</td>\n",
              "      <td>Entire Apt: Spacious Studio/Loft by central park</td>\n",
              "      <td>7192</td>\n",
              "      <td>Laura</td>\n",
              "      <td>Manhattan</td>\n",
              "      <td>East Harlem</td>\n",
              "      <td>40.79851</td>\n",
              "      <td>-73.94399</td>\n",
              "      <td>Entire home/apt</td>\n",
              "      <td>80</td>\n",
              "      <td>10</td>\n",
              "      <td>9</td>\n",
              "      <td>2018-11-19</td>\n",
              "      <td>0.10</td>\n",
              "      <td>1</td>\n",
              "      <td>0</td>\n",
              "    </tr>\n",
              "  </tbody>\n",
              "</table>\n",
              "</div>\n",
              "    <div class=\"colab-df-buttons\">\n",
              "\n",
              "  <div class=\"colab-df-container\">\n",
              "    <button class=\"colab-df-convert\" onclick=\"convertToInteractive('df-081788dd-aa48-42f1-a734-d56771cd5325')\"\n",
              "            title=\"Convert this dataframe to an interactive table.\"\n",
              "            style=\"display:none;\">\n",
              "\n",
              "  <svg xmlns=\"http://www.w3.org/2000/svg\" height=\"24px\" viewBox=\"0 -960 960 960\">\n",
              "    <path d=\"M120-120v-720h720v720H120Zm60-500h600v-160H180v160Zm220 220h160v-160H400v160Zm0 220h160v-160H400v160ZM180-400h160v-160H180v160Zm440 0h160v-160H620v160ZM180-180h160v-160H180v160Zm440 0h160v-160H620v160Z\"/>\n",
              "  </svg>\n",
              "    </button>\n",
              "\n",
              "  <style>\n",
              "    .colab-df-container {\n",
              "      display:flex;\n",
              "      gap: 12px;\n",
              "    }\n",
              "\n",
              "    .colab-df-convert {\n",
              "      background-color: #E8F0FE;\n",
              "      border: none;\n",
              "      border-radius: 50%;\n",
              "      cursor: pointer;\n",
              "      display: none;\n",
              "      fill: #1967D2;\n",
              "      height: 32px;\n",
              "      padding: 0 0 0 0;\n",
              "      width: 32px;\n",
              "    }\n",
              "\n",
              "    .colab-df-convert:hover {\n",
              "      background-color: #E2EBFA;\n",
              "      box-shadow: 0px 1px 2px rgba(60, 64, 67, 0.3), 0px 1px 3px 1px rgba(60, 64, 67, 0.15);\n",
              "      fill: #174EA6;\n",
              "    }\n",
              "\n",
              "    .colab-df-buttons div {\n",
              "      margin-bottom: 4px;\n",
              "    }\n",
              "\n",
              "    [theme=dark] .colab-df-convert {\n",
              "      background-color: #3B4455;\n",
              "      fill: #D2E3FC;\n",
              "    }\n",
              "\n",
              "    [theme=dark] .colab-df-convert:hover {\n",
              "      background-color: #434B5C;\n",
              "      box-shadow: 0px 1px 3px 1px rgba(0, 0, 0, 0.15);\n",
              "      filter: drop-shadow(0px 1px 2px rgba(0, 0, 0, 0.3));\n",
              "      fill: #FFFFFF;\n",
              "    }\n",
              "  </style>\n",
              "\n",
              "    <script>\n",
              "      const buttonEl =\n",
              "        document.querySelector('#df-081788dd-aa48-42f1-a734-d56771cd5325 button.colab-df-convert');\n",
              "      buttonEl.style.display =\n",
              "        google.colab.kernel.accessAllowed ? 'block' : 'none';\n",
              "\n",
              "      async function convertToInteractive(key) {\n",
              "        const element = document.querySelector('#df-081788dd-aa48-42f1-a734-d56771cd5325');\n",
              "        const dataTable =\n",
              "          await google.colab.kernel.invokeFunction('convertToInteractive',\n",
              "                                                    [key], {});\n",
              "        if (!dataTable) return;\n",
              "\n",
              "        const docLinkHtml = 'Like what you see? Visit the ' +\n",
              "          '<a target=\"_blank\" href=https://colab.research.google.com/notebooks/data_table.ipynb>data table notebook</a>'\n",
              "          + ' to learn more about interactive tables.';\n",
              "        element.innerHTML = '';\n",
              "        dataTable['output_type'] = 'display_data';\n",
              "        await google.colab.output.renderOutput(dataTable, element);\n",
              "        const docLink = document.createElement('div');\n",
              "        docLink.innerHTML = docLinkHtml;\n",
              "        element.appendChild(docLink);\n",
              "      }\n",
              "    </script>\n",
              "  </div>\n",
              "\n",
              "\n",
              "<div id=\"df-a82c92f6-7d7d-4d8f-9747-8bee618906ed\">\n",
              "  <button class=\"colab-df-quickchart\" onclick=\"quickchart('df-a82c92f6-7d7d-4d8f-9747-8bee618906ed')\"\n",
              "            title=\"Suggest charts\"\n",
              "            style=\"display:none;\">\n",
              "\n",
              "<svg xmlns=\"http://www.w3.org/2000/svg\" height=\"24px\"viewBox=\"0 0 24 24\"\n",
              "     width=\"24px\">\n",
              "    <g>\n",
              "        <path d=\"M19 3H5c-1.1 0-2 .9-2 2v14c0 1.1.9 2 2 2h14c1.1 0 2-.9 2-2V5c0-1.1-.9-2-2-2zM9 17H7v-7h2v7zm4 0h-2V7h2v10zm4 0h-2v-4h2v4z\"/>\n",
              "    </g>\n",
              "</svg>\n",
              "  </button>\n",
              "\n",
              "<style>\n",
              "  .colab-df-quickchart {\n",
              "      --bg-color: #E8F0FE;\n",
              "      --fill-color: #1967D2;\n",
              "      --hover-bg-color: #E2EBFA;\n",
              "      --hover-fill-color: #174EA6;\n",
              "      --disabled-fill-color: #AAA;\n",
              "      --disabled-bg-color: #DDD;\n",
              "  }\n",
              "\n",
              "  [theme=dark] .colab-df-quickchart {\n",
              "      --bg-color: #3B4455;\n",
              "      --fill-color: #D2E3FC;\n",
              "      --hover-bg-color: #434B5C;\n",
              "      --hover-fill-color: #FFFFFF;\n",
              "      --disabled-bg-color: #3B4455;\n",
              "      --disabled-fill-color: #666;\n",
              "  }\n",
              "\n",
              "  .colab-df-quickchart {\n",
              "    background-color: var(--bg-color);\n",
              "    border: none;\n",
              "    border-radius: 50%;\n",
              "    cursor: pointer;\n",
              "    display: none;\n",
              "    fill: var(--fill-color);\n",
              "    height: 32px;\n",
              "    padding: 0;\n",
              "    width: 32px;\n",
              "  }\n",
              "\n",
              "  .colab-df-quickchart:hover {\n",
              "    background-color: var(--hover-bg-color);\n",
              "    box-shadow: 0 1px 2px rgba(60, 64, 67, 0.3), 0 1px 3px 1px rgba(60, 64, 67, 0.15);\n",
              "    fill: var(--button-hover-fill-color);\n",
              "  }\n",
              "\n",
              "  .colab-df-quickchart-complete:disabled,\n",
              "  .colab-df-quickchart-complete:disabled:hover {\n",
              "    background-color: var(--disabled-bg-color);\n",
              "    fill: var(--disabled-fill-color);\n",
              "    box-shadow: none;\n",
              "  }\n",
              "\n",
              "  .colab-df-spinner {\n",
              "    border: 2px solid var(--fill-color);\n",
              "    border-color: transparent;\n",
              "    border-bottom-color: var(--fill-color);\n",
              "    animation:\n",
              "      spin 1s steps(1) infinite;\n",
              "  }\n",
              "\n",
              "  @keyframes spin {\n",
              "    0% {\n",
              "      border-color: transparent;\n",
              "      border-bottom-color: var(--fill-color);\n",
              "      border-left-color: var(--fill-color);\n",
              "    }\n",
              "    20% {\n",
              "      border-color: transparent;\n",
              "      border-left-color: var(--fill-color);\n",
              "      border-top-color: var(--fill-color);\n",
              "    }\n",
              "    30% {\n",
              "      border-color: transparent;\n",
              "      border-left-color: var(--fill-color);\n",
              "      border-top-color: var(--fill-color);\n",
              "      border-right-color: var(--fill-color);\n",
              "    }\n",
              "    40% {\n",
              "      border-color: transparent;\n",
              "      border-right-color: var(--fill-color);\n",
              "      border-top-color: var(--fill-color);\n",
              "    }\n",
              "    60% {\n",
              "      border-color: transparent;\n",
              "      border-right-color: var(--fill-color);\n",
              "    }\n",
              "    80% {\n",
              "      border-color: transparent;\n",
              "      border-right-color: var(--fill-color);\n",
              "      border-bottom-color: var(--fill-color);\n",
              "    }\n",
              "    90% {\n",
              "      border-color: transparent;\n",
              "      border-bottom-color: var(--fill-color);\n",
              "    }\n",
              "  }\n",
              "</style>\n",
              "\n",
              "  <script>\n",
              "    async function quickchart(key) {\n",
              "      const quickchartButtonEl =\n",
              "        document.querySelector('#' + key + ' button');\n",
              "      quickchartButtonEl.disabled = true;  // To prevent multiple clicks.\n",
              "      quickchartButtonEl.classList.add('colab-df-spinner');\n",
              "      try {\n",
              "        const charts = await google.colab.kernel.invokeFunction(\n",
              "            'suggestCharts', [key], {});\n",
              "      } catch (error) {\n",
              "        console.error('Error during call to suggestCharts:', error);\n",
              "      }\n",
              "      quickchartButtonEl.classList.remove('colab-df-spinner');\n",
              "      quickchartButtonEl.classList.add('colab-df-quickchart-complete');\n",
              "    }\n",
              "    (() => {\n",
              "      let quickchartButtonEl =\n",
              "        document.querySelector('#df-a82c92f6-7d7d-4d8f-9747-8bee618906ed button');\n",
              "      quickchartButtonEl.style.display =\n",
              "        google.colab.kernel.accessAllowed ? 'block' : 'none';\n",
              "    })();\n",
              "  </script>\n",
              "</div>\n",
              "    </div>\n",
              "  </div>\n"
            ],
            "application/vnd.google.colaboratory.intrinsic+json": {
              "type": "dataframe",
              "summary": "{\n  \"name\": \"df\",\n  \"rows\": 5,\n  \"fields\": [\n    {\n      \"column\": \"id\",\n      \"properties\": {\n        \"dtype\": \"string\",\n        \"num_unique_values\": 5,\n        \"samples\": [\n          \"2595\",\n          \"5022\",\n          \"3647\"\n        ],\n        \"semantic_type\": \"\",\n        \"description\": \"\"\n      }\n    },\n    {\n      \"column\": \"name\",\n      \"properties\": {\n        \"dtype\": \"string\",\n        \"num_unique_values\": 5,\n        \"samples\": [\n          \"Skylit Midtown Castle\",\n          \"Entire Apt: Spacious Studio/Loft by central park\",\n          \"THE VILLAGE OF HARLEM....NEW YORK !\"\n        ],\n        \"semantic_type\": \"\",\n        \"description\": \"\"\n      }\n    },\n    {\n      \"column\": \"host_id\",\n      \"properties\": {\n        \"dtype\": \"string\",\n        \"num_unique_values\": 5,\n        \"samples\": [\n          \"2845\",\n          \"7192\",\n          \"4632\"\n        ],\n        \"semantic_type\": \"\",\n        \"description\": \"\"\n      }\n    },\n    {\n      \"column\": \"host_name\",\n      \"properties\": {\n        \"dtype\": \"string\",\n        \"num_unique_values\": 5,\n        \"samples\": [\n          \"Jennifer\",\n          \"Laura\",\n          \"Elisabeth\"\n        ],\n        \"semantic_type\": \"\",\n        \"description\": \"\"\n      }\n    },\n    {\n      \"column\": \"neighbourhood_group\",\n      \"properties\": {\n        \"dtype\": \"category\",\n        \"num_unique_values\": 2,\n        \"samples\": [\n          \"Manhattan\",\n          \"Brooklyn\"\n        ],\n        \"semantic_type\": \"\",\n        \"description\": \"\"\n      }\n    },\n    {\n      \"column\": \"neighbourhood\",\n      \"properties\": {\n        \"dtype\": \"string\",\n        \"num_unique_values\": 5,\n        \"samples\": [\n          \"Midtown\",\n          \"East Harlem\"\n        ],\n        \"semantic_type\": \"\",\n        \"description\": \"\"\n      }\n    },\n    {\n      \"column\": \"latitude\",\n      \"properties\": {\n        \"dtype\": \"string\",\n        \"num_unique_values\": 5,\n        \"samples\": [\n          \"40.75362\",\n          \"40.79851\"\n        ],\n        \"semantic_type\": \"\",\n        \"description\": \"\"\n      }\n    },\n    {\n      \"column\": \"longitude\",\n      \"properties\": {\n        \"dtype\": \"string\",\n        \"num_unique_values\": 5,\n        \"samples\": [\n          \"-73.98377\",\n          \"-73.94399\"\n        ],\n        \"semantic_type\": \"\",\n        \"description\": \"\"\n      }\n    },\n    {\n      \"column\": \"room_type\",\n      \"properties\": {\n        \"dtype\": \"category\",\n        \"num_unique_values\": 2,\n        \"samples\": [\n          \"Entire home/apt\",\n          \"Private room\"\n        ],\n        \"semantic_type\": \"\",\n        \"description\": \"\"\n      }\n    },\n    {\n      \"column\": \"price\",\n      \"properties\": {\n        \"dtype\": \"string\",\n        \"num_unique_values\": 5,\n        \"samples\": [\n          \"225\",\n          \"80\"\n        ],\n        \"semantic_type\": \"\",\n        \"description\": \"\"\n      }\n    },\n    {\n      \"column\": \"minimum_nights\",\n      \"properties\": {\n        \"dtype\": \"string\",\n        \"num_unique_values\": 3,\n        \"samples\": [\n          \"1\",\n          \"3\"\n        ],\n        \"semantic_type\": \"\",\n        \"description\": \"\"\n      }\n    },\n    {\n      \"column\": \"number_of_reviews\",\n      \"properties\": {\n        \"dtype\": \"string\",\n        \"num_unique_values\": 4,\n        \"samples\": [\n          \"45\",\n          \"270\"\n        ],\n        \"semantic_type\": \"\",\n        \"description\": \"\"\n      }\n    },\n    {\n      \"column\": \"last_review\",\n      \"properties\": {\n        \"dtype\": \"object\",\n        \"num_unique_values\": 4,\n        \"samples\": [\n          \"2019-05-21\",\n          \"2018-11-19\"\n        ],\n        \"semantic_type\": \"\",\n        \"description\": \"\"\n      }\n    },\n    {\n      \"column\": \"reviews_per_month\",\n      \"properties\": {\n        \"dtype\": \"string\",\n        \"num_unique_values\": 4,\n        \"samples\": [\n          \"0.38\",\n          \"0.10\"\n        ],\n        \"semantic_type\": \"\",\n        \"description\": \"\"\n      }\n    },\n    {\n      \"column\": \"calculated_host_listings_count\",\n      \"properties\": {\n        \"dtype\": \"string\",\n        \"num_unique_values\": 3,\n        \"samples\": [\n          \"6\",\n          \"2\"\n        ],\n        \"semantic_type\": \"\",\n        \"description\": \"\"\n      }\n    },\n    {\n      \"column\": \"availability_365\",\n      \"properties\": {\n        \"dtype\": \"string\",\n        \"num_unique_values\": 4,\n        \"samples\": [\n          \"355\",\n          \"0\"\n        ],\n        \"semantic_type\": \"\",\n        \"description\": \"\"\n      }\n    }\n  ]\n}"
            }
          },
          "metadata": {},
          "execution_count": 63
        }
      ]
    },
    {
      "cell_type": "code",
      "source": [
        "# describe dataset\n",
        "df.describe().show()"
      ],
      "metadata": {
        "colab": {
          "base_uri": "https://localhost:8080/"
        },
        "id": "9-7qghcCmodo",
        "outputId": "869fb91f-fc3f-406d-aa95-8c57dc8c441d"
      },
      "execution_count": 64,
      "outputs": [
        {
          "output_type": "stream",
          "name": "stdout",
          "text": [
            "+-------+--------------------+-----------------------------+--------------------+--------------------+-------------------+------------------+-----------------+------------------+------------------+------------------+------------------+-----------------+------------------+------------------+------------------------------+------------------+\n",
            "|summary|                  id|                         name|             host_id|           host_name|neighbourhood_group|     neighbourhood|         latitude|         longitude|         room_type|             price|    minimum_nights|number_of_reviews|       last_review| reviews_per_month|calculated_host_listings_count|  availability_365|\n",
            "+-------+--------------------+-----------------------------+--------------------+--------------------+-------------------+------------------+-----------------+------------------+------------------+------------------+------------------+-----------------+------------------+------------------+------------------------------+------------------+\n",
            "|  count|               49079|                        49047|               48894|               48873|              48894|             48894|            48894|             48894|             48894|             48894|             48894|            48874|             38845|             38864|                         48892|             48737|\n",
            "|   mean|1.9017143236179568E7|              1.02037532075E8| 6.749591589946438E7|                 NaN|      1.960586395E8| 40.49195828025478|40.36302551723428| 437.1107369000375|148.10106579268293|152.22296299343384|7.1286126280910596|23.25829574459354|2.6292321379310346|1.3743823665654686|             7.655045918471702|112.59808769518025|\n",
            "| stddev|1.0983108385610068E7|          8.709090084371349E7| 7.855358174017523E7|                 NaN|  1897565.595041315|3.0923424874796805|6.467103784584827|112820.32836636381| 507.0239464524172|238.54148640283228|20.828534365347032|44.55795124559937| 8.964786212322723| 1.694376217315016|             34.82254748680071|131.60972881440694|\n",
            "|    min|  12 mins Manhattan\"|          1 Bed Apt in Uto...| Heart of Greenwi...| very clean studi...|          194716858|                 2|        -73.72247|         -73.71299|         -73.90783|         -73.99986|                 0|                0|         -73.94134|                 0|                             0|                 0|\n",
            "|    max| 獨一無二的紐約閣樓\"|ﾏﾝﾊｯﾀﾝ､駅から徒歩4分でどこ...|                呈刚|                현선|           Woodside|          Woodside|     West Village|       Shared room|       Shared room|      Private room|      Private room|               99|              9.66|      Private room|                            99|                99|\n",
            "+-------+--------------------+-----------------------------+--------------------+--------------------+-------------------+------------------+-----------------+------------------+------------------+------------------+------------------+-----------------+------------------+------------------+------------------------------+------------------+\n",
            "\n"
          ]
        }
      ]
    },
    {
      "cell_type": "markdown",
      "source": [
        "### Clean"
      ],
      "metadata": {
        "id": "UddkmKJk0piP"
      }
    },
    {
      "cell_type": "code",
      "source": [
        "# count missing values - Nan or None\n",
        "df.select([f.count(f.when(f.isnan(c) | f.col(c).isNull(), c)).alias(c) for c in df.columns]).show()"
      ],
      "metadata": {
        "colab": {
          "base_uri": "https://localhost:8080/"
        },
        "id": "hHhLTkNomoxa",
        "outputId": "c634b46b-ad9e-478b-be1f-78a99a9bbbca"
      },
      "execution_count": 65,
      "outputs": [
        {
          "output_type": "stream",
          "name": "stdout",
          "text": [
            "+---+----+-------+---------+-------------------+-------------+--------+---------+---------+-----+--------------+-----------------+-----------+-----------------+------------------------------+----------------+\n",
            "| id|name|host_id|host_name|neighbourhood_group|neighbourhood|latitude|longitude|room_type|price|minimum_nights|number_of_reviews|last_review|reviews_per_month|calculated_host_listings_count|availability_365|\n",
            "+---+----+-------+---------+-------------------+-------------+--------+---------+---------+-----+--------------+-----------------+-----------+-----------------+------------------------------+----------------+\n",
            "|  0|  32|    185|      212|                185|          185|     185|      185|      185|  185|           185|              205|      10234|            10215|                           187|             342|\n",
            "+---+----+-------+---------+-------------------+-------------+--------+---------+---------+-----+--------------+-----------------+-----------+-----------------+------------------------------+----------------+\n",
            "\n"
          ]
        }
      ]
    },
    {
      "cell_type": "code",
      "source": [
        "# last_review and reviews_per_month have over 10k missing values, while the rest of the columns have just a few\n",
        "\n",
        "# assign 0 to reviews_per_month\n",
        "c = 'reviews_per_month'\n",
        "df = df.withColumn(c, f.when(f.isnan(c) | f.col(c).isNull(), f.lit(0)).otherwise(f.col(c)))\n",
        "\n",
        "# drop unused columns\n",
        "df = df.drop(*['id','host_name','last_review'])\n",
        "\n",
        "# drop rows that contains nulls\n",
        "df = df.na.drop()"
      ],
      "metadata": {
        "id": "06RXEn1ip-BV"
      },
      "execution_count": 66,
      "outputs": []
    },
    {
      "cell_type": "code",
      "source": [
        "# check again missing values - Nan or None\n",
        "df.select([f.count(f.when(f.isnan(c) | f.col(c).isNull(), c)).alias(c) for c in df.columns]).show()"
      ],
      "metadata": {
        "colab": {
          "base_uri": "https://localhost:8080/"
        },
        "id": "HC24RXiN5Yj3",
        "outputId": "9800cb83-39a6-487a-ae06-9fc51883678d"
      },
      "execution_count": 67,
      "outputs": [
        {
          "output_type": "stream",
          "name": "stdout",
          "text": [
            "+----+-------+-------------------+-------------+--------+---------+---------+-----+--------------+-----------------+-----------------+------------------------------+----------------+\n",
            "|name|host_id|neighbourhood_group|neighbourhood|latitude|longitude|room_type|price|minimum_nights|number_of_reviews|reviews_per_month|calculated_host_listings_count|availability_365|\n",
            "+----+-------+-------------------+-------------+--------+---------+---------+-----+--------------+-----------------+-----------------+------------------------------+----------------+\n",
            "|   0|      0|                  0|            0|       0|        0|        0|    0|             0|                0|                0|                             0|               0|\n",
            "+----+-------+-------------------+-------------+--------+---------+---------+-----+--------------+-----------------+-----------------+------------------------------+----------------+\n",
            "\n"
          ]
        }
      ]
    },
    {
      "cell_type": "markdown",
      "source": [
        "### Create Features"
      ],
      "metadata": {
        "id": "LQ5-INU2-EZo"
      }
    },
    {
      "cell_type": "code",
      "source": [
        "# create new columns/data features - neighborhood mean price and difference to the mean price\n",
        "df_agg = df.groupBy('neighbourhood').agg(f.mean('price').alias('mean_price_neighbourhood'))\n",
        "df = df.join(df_agg, 'neighbourhood', 'left')\n",
        "df = df.withColumn('diff_price_neighbourhood', f.col('price')-f.col('mean_price_neighbourhood'))"
      ],
      "metadata": {
        "id": "IjWFLkQawHot"
      },
      "execution_count": 68,
      "outputs": []
    },
    {
      "cell_type": "code",
      "source": [
        "df.select(['neighbourhood','price','mean_price_neighbourhood','diff_price_neighbourhood']).limit(5).toPandas()"
      ],
      "metadata": {
        "colab": {
          "base_uri": "https://localhost:8080/",
          "height": 206
        },
        "id": "ALoACwQW_CvS",
        "outputId": "091936af-24b9-42b6-a5ac-bcccf259b220"
      },
      "execution_count": 69,
      "outputs": [
        {
          "output_type": "execute_result",
          "data": {
            "text/plain": [
              "  neighbourhood price  mean_price_neighbourhood  diff_price_neighbourhood\n",
              "0    Kensington   149                 92.885714                 56.114286\n",
              "1       Midtown   225                282.783907                -57.783907\n",
              "2        Harlem   150                119.114729                 30.885271\n",
              "3  Clinton Hill    89                182.045534                -93.045534\n",
              "4   East Harlem    80                133.130396                -53.130396"
            ],
            "text/html": [
              "\n",
              "  <div id=\"df-ab6e5034-f502-4ce5-8d16-5e9244f3554c\" class=\"colab-df-container\">\n",
              "    <div>\n",
              "<style scoped>\n",
              "    .dataframe tbody tr th:only-of-type {\n",
              "        vertical-align: middle;\n",
              "    }\n",
              "\n",
              "    .dataframe tbody tr th {\n",
              "        vertical-align: top;\n",
              "    }\n",
              "\n",
              "    .dataframe thead th {\n",
              "        text-align: right;\n",
              "    }\n",
              "</style>\n",
              "<table border=\"1\" class=\"dataframe\">\n",
              "  <thead>\n",
              "    <tr style=\"text-align: right;\">\n",
              "      <th></th>\n",
              "      <th>neighbourhood</th>\n",
              "      <th>price</th>\n",
              "      <th>mean_price_neighbourhood</th>\n",
              "      <th>diff_price_neighbourhood</th>\n",
              "    </tr>\n",
              "  </thead>\n",
              "  <tbody>\n",
              "    <tr>\n",
              "      <th>0</th>\n",
              "      <td>Kensington</td>\n",
              "      <td>149</td>\n",
              "      <td>92.885714</td>\n",
              "      <td>56.114286</td>\n",
              "    </tr>\n",
              "    <tr>\n",
              "      <th>1</th>\n",
              "      <td>Midtown</td>\n",
              "      <td>225</td>\n",
              "      <td>282.783907</td>\n",
              "      <td>-57.783907</td>\n",
              "    </tr>\n",
              "    <tr>\n",
              "      <th>2</th>\n",
              "      <td>Harlem</td>\n",
              "      <td>150</td>\n",
              "      <td>119.114729</td>\n",
              "      <td>30.885271</td>\n",
              "    </tr>\n",
              "    <tr>\n",
              "      <th>3</th>\n",
              "      <td>Clinton Hill</td>\n",
              "      <td>89</td>\n",
              "      <td>182.045534</td>\n",
              "      <td>-93.045534</td>\n",
              "    </tr>\n",
              "    <tr>\n",
              "      <th>4</th>\n",
              "      <td>East Harlem</td>\n",
              "      <td>80</td>\n",
              "      <td>133.130396</td>\n",
              "      <td>-53.130396</td>\n",
              "    </tr>\n",
              "  </tbody>\n",
              "</table>\n",
              "</div>\n",
              "    <div class=\"colab-df-buttons\">\n",
              "\n",
              "  <div class=\"colab-df-container\">\n",
              "    <button class=\"colab-df-convert\" onclick=\"convertToInteractive('df-ab6e5034-f502-4ce5-8d16-5e9244f3554c')\"\n",
              "            title=\"Convert this dataframe to an interactive table.\"\n",
              "            style=\"display:none;\">\n",
              "\n",
              "  <svg xmlns=\"http://www.w3.org/2000/svg\" height=\"24px\" viewBox=\"0 -960 960 960\">\n",
              "    <path d=\"M120-120v-720h720v720H120Zm60-500h600v-160H180v160Zm220 220h160v-160H400v160Zm0 220h160v-160H400v160ZM180-400h160v-160H180v160Zm440 0h160v-160H620v160ZM180-180h160v-160H180v160Zm440 0h160v-160H620v160Z\"/>\n",
              "  </svg>\n",
              "    </button>\n",
              "\n",
              "  <style>\n",
              "    .colab-df-container {\n",
              "      display:flex;\n",
              "      gap: 12px;\n",
              "    }\n",
              "\n",
              "    .colab-df-convert {\n",
              "      background-color: #E8F0FE;\n",
              "      border: none;\n",
              "      border-radius: 50%;\n",
              "      cursor: pointer;\n",
              "      display: none;\n",
              "      fill: #1967D2;\n",
              "      height: 32px;\n",
              "      padding: 0 0 0 0;\n",
              "      width: 32px;\n",
              "    }\n",
              "\n",
              "    .colab-df-convert:hover {\n",
              "      background-color: #E2EBFA;\n",
              "      box-shadow: 0px 1px 2px rgba(60, 64, 67, 0.3), 0px 1px 3px 1px rgba(60, 64, 67, 0.15);\n",
              "      fill: #174EA6;\n",
              "    }\n",
              "\n",
              "    .colab-df-buttons div {\n",
              "      margin-bottom: 4px;\n",
              "    }\n",
              "\n",
              "    [theme=dark] .colab-df-convert {\n",
              "      background-color: #3B4455;\n",
              "      fill: #D2E3FC;\n",
              "    }\n",
              "\n",
              "    [theme=dark] .colab-df-convert:hover {\n",
              "      background-color: #434B5C;\n",
              "      box-shadow: 0px 1px 3px 1px rgba(0, 0, 0, 0.15);\n",
              "      filter: drop-shadow(0px 1px 2px rgba(0, 0, 0, 0.3));\n",
              "      fill: #FFFFFF;\n",
              "    }\n",
              "  </style>\n",
              "\n",
              "    <script>\n",
              "      const buttonEl =\n",
              "        document.querySelector('#df-ab6e5034-f502-4ce5-8d16-5e9244f3554c button.colab-df-convert');\n",
              "      buttonEl.style.display =\n",
              "        google.colab.kernel.accessAllowed ? 'block' : 'none';\n",
              "\n",
              "      async function convertToInteractive(key) {\n",
              "        const element = document.querySelector('#df-ab6e5034-f502-4ce5-8d16-5e9244f3554c');\n",
              "        const dataTable =\n",
              "          await google.colab.kernel.invokeFunction('convertToInteractive',\n",
              "                                                    [key], {});\n",
              "        if (!dataTable) return;\n",
              "\n",
              "        const docLinkHtml = 'Like what you see? Visit the ' +\n",
              "          '<a target=\"_blank\" href=https://colab.research.google.com/notebooks/data_table.ipynb>data table notebook</a>'\n",
              "          + ' to learn more about interactive tables.';\n",
              "        element.innerHTML = '';\n",
              "        dataTable['output_type'] = 'display_data';\n",
              "        await google.colab.output.renderOutput(dataTable, element);\n",
              "        const docLink = document.createElement('div');\n",
              "        docLink.innerHTML = docLinkHtml;\n",
              "        element.appendChild(docLink);\n",
              "      }\n",
              "    </script>\n",
              "  </div>\n",
              "\n",
              "\n",
              "<div id=\"df-0c22e6fd-a3b4-4b57-af6c-2405ab2328cf\">\n",
              "  <button class=\"colab-df-quickchart\" onclick=\"quickchart('df-0c22e6fd-a3b4-4b57-af6c-2405ab2328cf')\"\n",
              "            title=\"Suggest charts\"\n",
              "            style=\"display:none;\">\n",
              "\n",
              "<svg xmlns=\"http://www.w3.org/2000/svg\" height=\"24px\"viewBox=\"0 0 24 24\"\n",
              "     width=\"24px\">\n",
              "    <g>\n",
              "        <path d=\"M19 3H5c-1.1 0-2 .9-2 2v14c0 1.1.9 2 2 2h14c1.1 0 2-.9 2-2V5c0-1.1-.9-2-2-2zM9 17H7v-7h2v7zm4 0h-2V7h2v10zm4 0h-2v-4h2v4z\"/>\n",
              "    </g>\n",
              "</svg>\n",
              "  </button>\n",
              "\n",
              "<style>\n",
              "  .colab-df-quickchart {\n",
              "      --bg-color: #E8F0FE;\n",
              "      --fill-color: #1967D2;\n",
              "      --hover-bg-color: #E2EBFA;\n",
              "      --hover-fill-color: #174EA6;\n",
              "      --disabled-fill-color: #AAA;\n",
              "      --disabled-bg-color: #DDD;\n",
              "  }\n",
              "\n",
              "  [theme=dark] .colab-df-quickchart {\n",
              "      --bg-color: #3B4455;\n",
              "      --fill-color: #D2E3FC;\n",
              "      --hover-bg-color: #434B5C;\n",
              "      --hover-fill-color: #FFFFFF;\n",
              "      --disabled-bg-color: #3B4455;\n",
              "      --disabled-fill-color: #666;\n",
              "  }\n",
              "\n",
              "  .colab-df-quickchart {\n",
              "    background-color: var(--bg-color);\n",
              "    border: none;\n",
              "    border-radius: 50%;\n",
              "    cursor: pointer;\n",
              "    display: none;\n",
              "    fill: var(--fill-color);\n",
              "    height: 32px;\n",
              "    padding: 0;\n",
              "    width: 32px;\n",
              "  }\n",
              "\n",
              "  .colab-df-quickchart:hover {\n",
              "    background-color: var(--hover-bg-color);\n",
              "    box-shadow: 0 1px 2px rgba(60, 64, 67, 0.3), 0 1px 3px 1px rgba(60, 64, 67, 0.15);\n",
              "    fill: var(--button-hover-fill-color);\n",
              "  }\n",
              "\n",
              "  .colab-df-quickchart-complete:disabled,\n",
              "  .colab-df-quickchart-complete:disabled:hover {\n",
              "    background-color: var(--disabled-bg-color);\n",
              "    fill: var(--disabled-fill-color);\n",
              "    box-shadow: none;\n",
              "  }\n",
              "\n",
              "  .colab-df-spinner {\n",
              "    border: 2px solid var(--fill-color);\n",
              "    border-color: transparent;\n",
              "    border-bottom-color: var(--fill-color);\n",
              "    animation:\n",
              "      spin 1s steps(1) infinite;\n",
              "  }\n",
              "\n",
              "  @keyframes spin {\n",
              "    0% {\n",
              "      border-color: transparent;\n",
              "      border-bottom-color: var(--fill-color);\n",
              "      border-left-color: var(--fill-color);\n",
              "    }\n",
              "    20% {\n",
              "      border-color: transparent;\n",
              "      border-left-color: var(--fill-color);\n",
              "      border-top-color: var(--fill-color);\n",
              "    }\n",
              "    30% {\n",
              "      border-color: transparent;\n",
              "      border-left-color: var(--fill-color);\n",
              "      border-top-color: var(--fill-color);\n",
              "      border-right-color: var(--fill-color);\n",
              "    }\n",
              "    40% {\n",
              "      border-color: transparent;\n",
              "      border-right-color: var(--fill-color);\n",
              "      border-top-color: var(--fill-color);\n",
              "    }\n",
              "    60% {\n",
              "      border-color: transparent;\n",
              "      border-right-color: var(--fill-color);\n",
              "    }\n",
              "    80% {\n",
              "      border-color: transparent;\n",
              "      border-right-color: var(--fill-color);\n",
              "      border-bottom-color: var(--fill-color);\n",
              "    }\n",
              "    90% {\n",
              "      border-color: transparent;\n",
              "      border-bottom-color: var(--fill-color);\n",
              "    }\n",
              "  }\n",
              "</style>\n",
              "\n",
              "  <script>\n",
              "    async function quickchart(key) {\n",
              "      const quickchartButtonEl =\n",
              "        document.querySelector('#' + key + ' button');\n",
              "      quickchartButtonEl.disabled = true;  // To prevent multiple clicks.\n",
              "      quickchartButtonEl.classList.add('colab-df-spinner');\n",
              "      try {\n",
              "        const charts = await google.colab.kernel.invokeFunction(\n",
              "            'suggestCharts', [key], {});\n",
              "      } catch (error) {\n",
              "        console.error('Error during call to suggestCharts:', error);\n",
              "      }\n",
              "      quickchartButtonEl.classList.remove('colab-df-spinner');\n",
              "      quickchartButtonEl.classList.add('colab-df-quickchart-complete');\n",
              "    }\n",
              "    (() => {\n",
              "      let quickchartButtonEl =\n",
              "        document.querySelector('#df-0c22e6fd-a3b4-4b57-af6c-2405ab2328cf button');\n",
              "      quickchartButtonEl.style.display =\n",
              "        google.colab.kernel.accessAllowed ? 'block' : 'none';\n",
              "    })();\n",
              "  </script>\n",
              "</div>\n",
              "    </div>\n",
              "  </div>\n"
            ],
            "application/vnd.google.colaboratory.intrinsic+json": {
              "type": "dataframe",
              "summary": "{\n  \"name\": \"df\",\n  \"rows\": 5,\n  \"fields\": [\n    {\n      \"column\": \"neighbourhood\",\n      \"properties\": {\n        \"dtype\": \"string\",\n        \"num_unique_values\": 5,\n        \"samples\": [\n          \"Midtown\",\n          \"East Harlem\",\n          \"Harlem\"\n        ],\n        \"semantic_type\": \"\",\n        \"description\": \"\"\n      }\n    },\n    {\n      \"column\": \"price\",\n      \"properties\": {\n        \"dtype\": \"string\",\n        \"num_unique_values\": 5,\n        \"samples\": [\n          \"225\",\n          \"80\",\n          \"150\"\n        ],\n        \"semantic_type\": \"\",\n        \"description\": \"\"\n      }\n    },\n    {\n      \"column\": \"mean_price_neighbourhood\",\n      \"properties\": {\n        \"dtype\": \"number\",\n        \"std\": 74.8998668142667,\n        \"min\": 92.88571428571429,\n        \"max\": 282.7839065541856,\n        \"num_unique_values\": 5,\n        \"samples\": [\n          282.7839065541856,\n          133.13039568345323,\n          119.11472926921621\n        ],\n        \"semantic_type\": \"\",\n        \"description\": \"\"\n      }\n    },\n    {\n      \"column\": \"diff_price_neighbourhood\",\n      \"properties\": {\n        \"dtype\": \"number\",\n        \"std\": 63.612227244408025,\n        \"min\": -93.04553415061295,\n        \"max\": 56.114285714285714,\n        \"num_unique_values\": 5,\n        \"samples\": [\n          -57.78390655418559,\n          -53.13039568345323,\n          30.885270730783787\n        ],\n        \"semantic_type\": \"\",\n        \"description\": \"\"\n      }\n    }\n  ]\n}"
            }
          },
          "metadata": {},
          "execution_count": 69
        }
      ]
    },
    {
      "cell_type": "code",
      "source": [
        "# create new columns/data features - mean and sum of reviews for each host_id\n",
        "df_agg = df.groupBy('host_id').agg(f.mean('number_of_reviews').alias('mean_number_of_reviews_host_id'), f.sum('number_of_reviews').alias('sum_number_of_reviews_host_id'))\n",
        "df = df.join(df_agg, 'host_id', 'left')"
      ],
      "metadata": {
        "id": "cApyI_BjyCeW"
      },
      "execution_count": 70,
      "outputs": []
    },
    {
      "cell_type": "code",
      "source": [
        "df.select(['host_id','number_of_reviews','mean_number_of_reviews_host_id','sum_number_of_reviews_host_id']).limit(5).toPandas()"
      ],
      "metadata": {
        "colab": {
          "base_uri": "https://localhost:8080/",
          "height": 206
        },
        "id": "zMDRcOfRhdlR",
        "outputId": "5c8b1851-74ec-4884-bc6a-3b890db68b19"
      },
      "execution_count": 71,
      "outputs": [
        {
          "output_type": "execute_result",
          "data": {
            "text/plain": [
              "  host_id number_of_reviews  mean_number_of_reviews_host_id  \\\n",
              "0    2787                 9                            17.5   \n",
              "1    2845                45                            23.0   \n",
              "2    4632                 0                             0.0   \n",
              "3    4869               270                           270.0   \n",
              "4    7192                 9                             9.0   \n",
              "\n",
              "   sum_number_of_reviews_host_id  \n",
              "0                          105.0  \n",
              "1                           46.0  \n",
              "2                            0.0  \n",
              "3                          270.0  \n",
              "4                            9.0  "
            ],
            "text/html": [
              "\n",
              "  <div id=\"df-61299cb7-b5da-4d37-8613-d1a23332d587\" class=\"colab-df-container\">\n",
              "    <div>\n",
              "<style scoped>\n",
              "    .dataframe tbody tr th:only-of-type {\n",
              "        vertical-align: middle;\n",
              "    }\n",
              "\n",
              "    .dataframe tbody tr th {\n",
              "        vertical-align: top;\n",
              "    }\n",
              "\n",
              "    .dataframe thead th {\n",
              "        text-align: right;\n",
              "    }\n",
              "</style>\n",
              "<table border=\"1\" class=\"dataframe\">\n",
              "  <thead>\n",
              "    <tr style=\"text-align: right;\">\n",
              "      <th></th>\n",
              "      <th>host_id</th>\n",
              "      <th>number_of_reviews</th>\n",
              "      <th>mean_number_of_reviews_host_id</th>\n",
              "      <th>sum_number_of_reviews_host_id</th>\n",
              "    </tr>\n",
              "  </thead>\n",
              "  <tbody>\n",
              "    <tr>\n",
              "      <th>0</th>\n",
              "      <td>2787</td>\n",
              "      <td>9</td>\n",
              "      <td>17.5</td>\n",
              "      <td>105.0</td>\n",
              "    </tr>\n",
              "    <tr>\n",
              "      <th>1</th>\n",
              "      <td>2845</td>\n",
              "      <td>45</td>\n",
              "      <td>23.0</td>\n",
              "      <td>46.0</td>\n",
              "    </tr>\n",
              "    <tr>\n",
              "      <th>2</th>\n",
              "      <td>4632</td>\n",
              "      <td>0</td>\n",
              "      <td>0.0</td>\n",
              "      <td>0.0</td>\n",
              "    </tr>\n",
              "    <tr>\n",
              "      <th>3</th>\n",
              "      <td>4869</td>\n",
              "      <td>270</td>\n",
              "      <td>270.0</td>\n",
              "      <td>270.0</td>\n",
              "    </tr>\n",
              "    <tr>\n",
              "      <th>4</th>\n",
              "      <td>7192</td>\n",
              "      <td>9</td>\n",
              "      <td>9.0</td>\n",
              "      <td>9.0</td>\n",
              "    </tr>\n",
              "  </tbody>\n",
              "</table>\n",
              "</div>\n",
              "    <div class=\"colab-df-buttons\">\n",
              "\n",
              "  <div class=\"colab-df-container\">\n",
              "    <button class=\"colab-df-convert\" onclick=\"convertToInteractive('df-61299cb7-b5da-4d37-8613-d1a23332d587')\"\n",
              "            title=\"Convert this dataframe to an interactive table.\"\n",
              "            style=\"display:none;\">\n",
              "\n",
              "  <svg xmlns=\"http://www.w3.org/2000/svg\" height=\"24px\" viewBox=\"0 -960 960 960\">\n",
              "    <path d=\"M120-120v-720h720v720H120Zm60-500h600v-160H180v160Zm220 220h160v-160H400v160Zm0 220h160v-160H400v160ZM180-400h160v-160H180v160Zm440 0h160v-160H620v160ZM180-180h160v-160H180v160Zm440 0h160v-160H620v160Z\"/>\n",
              "  </svg>\n",
              "    </button>\n",
              "\n",
              "  <style>\n",
              "    .colab-df-container {\n",
              "      display:flex;\n",
              "      gap: 12px;\n",
              "    }\n",
              "\n",
              "    .colab-df-convert {\n",
              "      background-color: #E8F0FE;\n",
              "      border: none;\n",
              "      border-radius: 50%;\n",
              "      cursor: pointer;\n",
              "      display: none;\n",
              "      fill: #1967D2;\n",
              "      height: 32px;\n",
              "      padding: 0 0 0 0;\n",
              "      width: 32px;\n",
              "    }\n",
              "\n",
              "    .colab-df-convert:hover {\n",
              "      background-color: #E2EBFA;\n",
              "      box-shadow: 0px 1px 2px rgba(60, 64, 67, 0.3), 0px 1px 3px 1px rgba(60, 64, 67, 0.15);\n",
              "      fill: #174EA6;\n",
              "    }\n",
              "\n",
              "    .colab-df-buttons div {\n",
              "      margin-bottom: 4px;\n",
              "    }\n",
              "\n",
              "    [theme=dark] .colab-df-convert {\n",
              "      background-color: #3B4455;\n",
              "      fill: #D2E3FC;\n",
              "    }\n",
              "\n",
              "    [theme=dark] .colab-df-convert:hover {\n",
              "      background-color: #434B5C;\n",
              "      box-shadow: 0px 1px 3px 1px rgba(0, 0, 0, 0.15);\n",
              "      filter: drop-shadow(0px 1px 2px rgba(0, 0, 0, 0.3));\n",
              "      fill: #FFFFFF;\n",
              "    }\n",
              "  </style>\n",
              "\n",
              "    <script>\n",
              "      const buttonEl =\n",
              "        document.querySelector('#df-61299cb7-b5da-4d37-8613-d1a23332d587 button.colab-df-convert');\n",
              "      buttonEl.style.display =\n",
              "        google.colab.kernel.accessAllowed ? 'block' : 'none';\n",
              "\n",
              "      async function convertToInteractive(key) {\n",
              "        const element = document.querySelector('#df-61299cb7-b5da-4d37-8613-d1a23332d587');\n",
              "        const dataTable =\n",
              "          await google.colab.kernel.invokeFunction('convertToInteractive',\n",
              "                                                    [key], {});\n",
              "        if (!dataTable) return;\n",
              "\n",
              "        const docLinkHtml = 'Like what you see? Visit the ' +\n",
              "          '<a target=\"_blank\" href=https://colab.research.google.com/notebooks/data_table.ipynb>data table notebook</a>'\n",
              "          + ' to learn more about interactive tables.';\n",
              "        element.innerHTML = '';\n",
              "        dataTable['output_type'] = 'display_data';\n",
              "        await google.colab.output.renderOutput(dataTable, element);\n",
              "        const docLink = document.createElement('div');\n",
              "        docLink.innerHTML = docLinkHtml;\n",
              "        element.appendChild(docLink);\n",
              "      }\n",
              "    </script>\n",
              "  </div>\n",
              "\n",
              "\n",
              "<div id=\"df-768f5f65-aed6-4131-90aa-ade45683d2e2\">\n",
              "  <button class=\"colab-df-quickchart\" onclick=\"quickchart('df-768f5f65-aed6-4131-90aa-ade45683d2e2')\"\n",
              "            title=\"Suggest charts\"\n",
              "            style=\"display:none;\">\n",
              "\n",
              "<svg xmlns=\"http://www.w3.org/2000/svg\" height=\"24px\"viewBox=\"0 0 24 24\"\n",
              "     width=\"24px\">\n",
              "    <g>\n",
              "        <path d=\"M19 3H5c-1.1 0-2 .9-2 2v14c0 1.1.9 2 2 2h14c1.1 0 2-.9 2-2V5c0-1.1-.9-2-2-2zM9 17H7v-7h2v7zm4 0h-2V7h2v10zm4 0h-2v-4h2v4z\"/>\n",
              "    </g>\n",
              "</svg>\n",
              "  </button>\n",
              "\n",
              "<style>\n",
              "  .colab-df-quickchart {\n",
              "      --bg-color: #E8F0FE;\n",
              "      --fill-color: #1967D2;\n",
              "      --hover-bg-color: #E2EBFA;\n",
              "      --hover-fill-color: #174EA6;\n",
              "      --disabled-fill-color: #AAA;\n",
              "      --disabled-bg-color: #DDD;\n",
              "  }\n",
              "\n",
              "  [theme=dark] .colab-df-quickchart {\n",
              "      --bg-color: #3B4455;\n",
              "      --fill-color: #D2E3FC;\n",
              "      --hover-bg-color: #434B5C;\n",
              "      --hover-fill-color: #FFFFFF;\n",
              "      --disabled-bg-color: #3B4455;\n",
              "      --disabled-fill-color: #666;\n",
              "  }\n",
              "\n",
              "  .colab-df-quickchart {\n",
              "    background-color: var(--bg-color);\n",
              "    border: none;\n",
              "    border-radius: 50%;\n",
              "    cursor: pointer;\n",
              "    display: none;\n",
              "    fill: var(--fill-color);\n",
              "    height: 32px;\n",
              "    padding: 0;\n",
              "    width: 32px;\n",
              "  }\n",
              "\n",
              "  .colab-df-quickchart:hover {\n",
              "    background-color: var(--hover-bg-color);\n",
              "    box-shadow: 0 1px 2px rgba(60, 64, 67, 0.3), 0 1px 3px 1px rgba(60, 64, 67, 0.15);\n",
              "    fill: var(--button-hover-fill-color);\n",
              "  }\n",
              "\n",
              "  .colab-df-quickchart-complete:disabled,\n",
              "  .colab-df-quickchart-complete:disabled:hover {\n",
              "    background-color: var(--disabled-bg-color);\n",
              "    fill: var(--disabled-fill-color);\n",
              "    box-shadow: none;\n",
              "  }\n",
              "\n",
              "  .colab-df-spinner {\n",
              "    border: 2px solid var(--fill-color);\n",
              "    border-color: transparent;\n",
              "    border-bottom-color: var(--fill-color);\n",
              "    animation:\n",
              "      spin 1s steps(1) infinite;\n",
              "  }\n",
              "\n",
              "  @keyframes spin {\n",
              "    0% {\n",
              "      border-color: transparent;\n",
              "      border-bottom-color: var(--fill-color);\n",
              "      border-left-color: var(--fill-color);\n",
              "    }\n",
              "    20% {\n",
              "      border-color: transparent;\n",
              "      border-left-color: var(--fill-color);\n",
              "      border-top-color: var(--fill-color);\n",
              "    }\n",
              "    30% {\n",
              "      border-color: transparent;\n",
              "      border-left-color: var(--fill-color);\n",
              "      border-top-color: var(--fill-color);\n",
              "      border-right-color: var(--fill-color);\n",
              "    }\n",
              "    40% {\n",
              "      border-color: transparent;\n",
              "      border-right-color: var(--fill-color);\n",
              "      border-top-color: var(--fill-color);\n",
              "    }\n",
              "    60% {\n",
              "      border-color: transparent;\n",
              "      border-right-color: var(--fill-color);\n",
              "    }\n",
              "    80% {\n",
              "      border-color: transparent;\n",
              "      border-right-color: var(--fill-color);\n",
              "      border-bottom-color: var(--fill-color);\n",
              "    }\n",
              "    90% {\n",
              "      border-color: transparent;\n",
              "      border-bottom-color: var(--fill-color);\n",
              "    }\n",
              "  }\n",
              "</style>\n",
              "\n",
              "  <script>\n",
              "    async function quickchart(key) {\n",
              "      const quickchartButtonEl =\n",
              "        document.querySelector('#' + key + ' button');\n",
              "      quickchartButtonEl.disabled = true;  // To prevent multiple clicks.\n",
              "      quickchartButtonEl.classList.add('colab-df-spinner');\n",
              "      try {\n",
              "        const charts = await google.colab.kernel.invokeFunction(\n",
              "            'suggestCharts', [key], {});\n",
              "      } catch (error) {\n",
              "        console.error('Error during call to suggestCharts:', error);\n",
              "      }\n",
              "      quickchartButtonEl.classList.remove('colab-df-spinner');\n",
              "      quickchartButtonEl.classList.add('colab-df-quickchart-complete');\n",
              "    }\n",
              "    (() => {\n",
              "      let quickchartButtonEl =\n",
              "        document.querySelector('#df-768f5f65-aed6-4131-90aa-ade45683d2e2 button');\n",
              "      quickchartButtonEl.style.display =\n",
              "        google.colab.kernel.accessAllowed ? 'block' : 'none';\n",
              "    })();\n",
              "  </script>\n",
              "</div>\n",
              "    </div>\n",
              "  </div>\n"
            ],
            "application/vnd.google.colaboratory.intrinsic+json": {
              "type": "dataframe",
              "summary": "{\n  \"name\": \"df\",\n  \"rows\": 5,\n  \"fields\": [\n    {\n      \"column\": \"host_id\",\n      \"properties\": {\n        \"dtype\": \"string\",\n        \"num_unique_values\": 5,\n        \"samples\": [\n          \"2845\",\n          \"7192\",\n          \"4632\"\n        ],\n        \"semantic_type\": \"\",\n        \"description\": \"\"\n      }\n    },\n    {\n      \"column\": \"number_of_reviews\",\n      \"properties\": {\n        \"dtype\": \"string\",\n        \"num_unique_values\": 4,\n        \"samples\": [\n          \"45\",\n          \"270\",\n          \"9\"\n        ],\n        \"semantic_type\": \"\",\n        \"description\": \"\"\n      }\n    },\n    {\n      \"column\": \"mean_number_of_reviews_host_id\",\n      \"properties\": {\n        \"dtype\": \"number\",\n        \"std\": 115.54241645387205,\n        \"min\": 0.0,\n        \"max\": 270.0,\n        \"num_unique_values\": 5,\n        \"samples\": [\n          23.0,\n          9.0,\n          0.0\n        ],\n        \"semantic_type\": \"\",\n        \"description\": \"\"\n      }\n    },\n    {\n      \"column\": \"sum_number_of_reviews_host_id\",\n      \"properties\": {\n        \"dtype\": \"number\",\n        \"std\": 110.83997473835872,\n        \"min\": 0.0,\n        \"max\": 270.0,\n        \"num_unique_values\": 5,\n        \"samples\": [\n          46.0,\n          9.0,\n          0.0\n        ],\n        \"semantic_type\": \"\",\n        \"description\": \"\"\n      }\n    }\n  ]\n}"
            }
          },
          "metadata": {},
          "execution_count": 71
        }
      ]
    },
    {
      "cell_type": "markdown",
      "source": [
        "### Price Prediction using Spark MLlib"
      ],
      "metadata": {
        "id": "VRSmNAWoDqc6"
      }
    },
    {
      "cell_type": "code",
      "source": [
        "from pyspark.ml.feature import VectorAssembler, OneHotEncoder, StringIndexer, VectorIndexer\n",
        "from pyspark.ml.regression import LinearRegression\n",
        "from pyspark.ml.evaluation import RegressionEvaluator\n",
        "\n",
        "\n",
        "# define the features and label column names\n",
        "label_col = 'price'\n",
        "\n",
        "# cast features (enforce the right data type)\n",
        "float_cols = ['latitude', 'longitude', 'reviews_per_month',\n",
        "              'mean_number_of_reviews_host_id','sum_number_of_reviews_host_id']\n",
        "              #'mean_price_neighbourhood', 'diff_price_neighbourhood'  # price derived features should not be used because they were created with the target feature, but it works for demo\n",
        "cat_cols = ['neighbourhood_group', 'room_type']\n",
        "int_cols = ['minimum_nights', 'availability_365', 'number_of_reviews', 'calculated_host_listings_count', 'price']\n",
        "\n",
        "for col in float_cols:\n",
        "  df = df.withColumn(col, df[col].cast('float'))\n",
        "for col in cat_cols:\n",
        "  df = df.withColumn(col, df[col].cast('string'))\n",
        "for col in int_cols:\n",
        "  df = df.withColumn(col, df[col].cast('int'))\n",
        "#df.printSchema()\n",
        "\n",
        "# drop rows that contains nulls due to casts\n",
        "df = df.na.drop()\n",
        "\n",
        "\n",
        "# convert categorical columns to numeric using one-hot encoding\n",
        "for col in cat_cols:\n",
        "    indexer = StringIndexer(inputCol=col, outputCol=col+'_index')\n",
        "    encoder = OneHotEncoder(inputCols=[indexer.getOutputCol()], outputCols=[col+'_vec'])\n",
        "    df = indexer.fit(df).transform(df)\n",
        "    df = encoder.fit(df).transform(df)\n",
        "\n",
        "\n",
        "# assemble the features into a vector\n",
        "features_cols = int_cols + float_cols + [col+'_vec' for col in cat_cols]\n",
        "features_cols = list(set(features_cols) - set([label_col])) # remove label from features\n",
        "#print(features_cols)\n",
        "\n",
        "assembler = VectorAssembler(inputCols=features_cols, outputCol='features')\n",
        "dataset = assembler.transform(df.select(label_col, *features_cols))\n",
        "\n",
        "\n",
        "# split the data into training (80%) and testing (20%) sets\n",
        "train_dataset, test_dataset = dataset.randomSplit([0.8, 0.2], seed=333)\n",
        "\n",
        "# train a linear regression model - available MLlib algorithms are described at https://spark.apache.org/docs/latest/ml-classification-regression.html\n",
        "lr = LinearRegression(featuresCol='features', labelCol=label_col, regParam=0.3, elasticNetParam=0.8)\n",
        "model = lr.fit(train_dataset)"
      ],
      "metadata": {
        "id": "5qZqSrGvIW72"
      },
      "execution_count": 72,
      "outputs": []
    },
    {
      "cell_type": "code",
      "source": [
        "# make predictions on the test data\n",
        "predictions = model.transform(test_dataset)\n",
        "predictions.select(\"prediction\", label_col, \"features\").show(5)"
      ],
      "metadata": {
        "colab": {
          "base_uri": "https://localhost:8080/"
        },
        "id": "wpPf2JtZTBwc",
        "outputId": "1b86aa95-4951-4d0a-cb18-6bfe974a8e01"
      },
      "execution_count": 73,
      "outputs": [
        {
          "output_type": "stream",
          "name": "stdout",
          "text": [
            "+------------------+-----+--------------------+\n",
            "|        prediction|price|            features|\n",
            "+------------------+-----+--------------------+\n",
            "| 43.44795295816584|    0|[35.0,0.0,1.0,40....|\n",
            "|46.801618536701426|   10|(15,[2,3,4,7,9,13...|\n",
            "| 77.56319142705615|   10|(15,[2,3,4,7,9,13...|\n",
            "|135.76221166149116|   10|[2.0,0.0,1.0,40.7...|\n",
            "|213.01618621266243|   10|[10.0,1.0,0.0,40....|\n",
            "+------------------+-----+--------------------+\n",
            "only showing top 5 rows\n",
            "\n"
          ]
        }
      ]
    },
    {
      "cell_type": "code",
      "source": [
        "# print model parameters\n",
        "print(\"Coefficients: \" + str(model.coefficients))\n",
        "print(\"Intercept: \" + str(model.intercept))"
      ],
      "metadata": {
        "colab": {
          "base_uri": "https://localhost:8080/"
        },
        "id": "I6DJOl5UjIhW",
        "outputId": "19763965-8e1a-40c5-f2a3-d268b09b9f30"
      },
      "execution_count": 74,
      "outputs": [
        {
          "output_type": "stream",
          "name": "stdout",
          "text": [
            "Coefficients: [0.004056997024039595,133.34646668128497,26.084711079313717,-179.86525926681637,-0.1642453735549431,-2.8426192329305655,-0.2494441361290775,-423.320498427099,113.58656985925535,53.23190171305388,75.00476066673014,75.12347957772394,0.0,-0.04994585414568472,0.19787929896787038]\n",
            "Intercept: -24003.20743305356\n"
          ]
        }
      ]
    },
    {
      "cell_type": "code",
      "source": [
        "# get list of all dataset features including the ones created with hot encoding\n",
        "features = [x[\"name\"] for x in sorted(train_dataset.schema[\"features\"].metadata[\"ml_attr\"][\"attrs\"][\"binary\"]+\n",
        "            train_dataset.schema[\"features\"].metadata[\"ml_attr\"][\"attrs\"][\"numeric\"],\n",
        "            key=lambda x: x[\"idx\"])]\n",
        "results = pd.DataFrame({'coefficient':model.coefficients, 'feature':features}).sort_values('coefficient', ascending=False)\n",
        "results"
      ],
      "metadata": {
        "colab": {
          "base_uri": "https://localhost:8080/",
          "height": 519
        },
        "id": "T5NOK29eln3_",
        "outputId": "2bed8a75-cc8f-4d13-c9ec-2c22c54e58ae"
      },
      "execution_count": 75,
      "outputs": [
        {
          "output_type": "execute_result",
          "data": {
            "text/plain": [
              "    coefficient                            feature\n",
              "1    133.346467      room_type_vec_Entire home/apt\n",
              "8    113.586570  neighbourhood_group_vec_Manhattan\n",
              "11    75.123480      neighbourhood_group_vec_Bronx\n",
              "10    75.004761     neighbourhood_group_vec_Queens\n",
              "9     53.231902   neighbourhood_group_vec_Brooklyn\n",
              "2     26.084711         room_type_vec_Private room\n",
              "14     0.197879                   availability_365\n",
              "0      0.004057      sum_number_of_reviews_host_id\n",
              "12     0.000000     mean_number_of_reviews_host_id\n",
              "13    -0.049946                     minimum_nights\n",
              "4     -0.164245     calculated_host_listings_count\n",
              "6     -0.249444                  number_of_reviews\n",
              "5     -2.842619                  reviews_per_month\n",
              "3   -179.865259                           latitude\n",
              "7   -423.320498                          longitude"
            ],
            "text/html": [
              "\n",
              "  <div id=\"df-88e69caa-e698-4073-bce8-d82ce4f305f3\" class=\"colab-df-container\">\n",
              "    <div>\n",
              "<style scoped>\n",
              "    .dataframe tbody tr th:only-of-type {\n",
              "        vertical-align: middle;\n",
              "    }\n",
              "\n",
              "    .dataframe tbody tr th {\n",
              "        vertical-align: top;\n",
              "    }\n",
              "\n",
              "    .dataframe thead th {\n",
              "        text-align: right;\n",
              "    }\n",
              "</style>\n",
              "<table border=\"1\" class=\"dataframe\">\n",
              "  <thead>\n",
              "    <tr style=\"text-align: right;\">\n",
              "      <th></th>\n",
              "      <th>coefficient</th>\n",
              "      <th>feature</th>\n",
              "    </tr>\n",
              "  </thead>\n",
              "  <tbody>\n",
              "    <tr>\n",
              "      <th>1</th>\n",
              "      <td>133.346467</td>\n",
              "      <td>room_type_vec_Entire home/apt</td>\n",
              "    </tr>\n",
              "    <tr>\n",
              "      <th>8</th>\n",
              "      <td>113.586570</td>\n",
              "      <td>neighbourhood_group_vec_Manhattan</td>\n",
              "    </tr>\n",
              "    <tr>\n",
              "      <th>11</th>\n",
              "      <td>75.123480</td>\n",
              "      <td>neighbourhood_group_vec_Bronx</td>\n",
              "    </tr>\n",
              "    <tr>\n",
              "      <th>10</th>\n",
              "      <td>75.004761</td>\n",
              "      <td>neighbourhood_group_vec_Queens</td>\n",
              "    </tr>\n",
              "    <tr>\n",
              "      <th>9</th>\n",
              "      <td>53.231902</td>\n",
              "      <td>neighbourhood_group_vec_Brooklyn</td>\n",
              "    </tr>\n",
              "    <tr>\n",
              "      <th>2</th>\n",
              "      <td>26.084711</td>\n",
              "      <td>room_type_vec_Private room</td>\n",
              "    </tr>\n",
              "    <tr>\n",
              "      <th>14</th>\n",
              "      <td>0.197879</td>\n",
              "      <td>availability_365</td>\n",
              "    </tr>\n",
              "    <tr>\n",
              "      <th>0</th>\n",
              "      <td>0.004057</td>\n",
              "      <td>sum_number_of_reviews_host_id</td>\n",
              "    </tr>\n",
              "    <tr>\n",
              "      <th>12</th>\n",
              "      <td>0.000000</td>\n",
              "      <td>mean_number_of_reviews_host_id</td>\n",
              "    </tr>\n",
              "    <tr>\n",
              "      <th>13</th>\n",
              "      <td>-0.049946</td>\n",
              "      <td>minimum_nights</td>\n",
              "    </tr>\n",
              "    <tr>\n",
              "      <th>4</th>\n",
              "      <td>-0.164245</td>\n",
              "      <td>calculated_host_listings_count</td>\n",
              "    </tr>\n",
              "    <tr>\n",
              "      <th>6</th>\n",
              "      <td>-0.249444</td>\n",
              "      <td>number_of_reviews</td>\n",
              "    </tr>\n",
              "    <tr>\n",
              "      <th>5</th>\n",
              "      <td>-2.842619</td>\n",
              "      <td>reviews_per_month</td>\n",
              "    </tr>\n",
              "    <tr>\n",
              "      <th>3</th>\n",
              "      <td>-179.865259</td>\n",
              "      <td>latitude</td>\n",
              "    </tr>\n",
              "    <tr>\n",
              "      <th>7</th>\n",
              "      <td>-423.320498</td>\n",
              "      <td>longitude</td>\n",
              "    </tr>\n",
              "  </tbody>\n",
              "</table>\n",
              "</div>\n",
              "    <div class=\"colab-df-buttons\">\n",
              "\n",
              "  <div class=\"colab-df-container\">\n",
              "    <button class=\"colab-df-convert\" onclick=\"convertToInteractive('df-88e69caa-e698-4073-bce8-d82ce4f305f3')\"\n",
              "            title=\"Convert this dataframe to an interactive table.\"\n",
              "            style=\"display:none;\">\n",
              "\n",
              "  <svg xmlns=\"http://www.w3.org/2000/svg\" height=\"24px\" viewBox=\"0 -960 960 960\">\n",
              "    <path d=\"M120-120v-720h720v720H120Zm60-500h600v-160H180v160Zm220 220h160v-160H400v160Zm0 220h160v-160H400v160ZM180-400h160v-160H180v160Zm440 0h160v-160H620v160ZM180-180h160v-160H180v160Zm440 0h160v-160H620v160Z\"/>\n",
              "  </svg>\n",
              "    </button>\n",
              "\n",
              "  <style>\n",
              "    .colab-df-container {\n",
              "      display:flex;\n",
              "      gap: 12px;\n",
              "    }\n",
              "\n",
              "    .colab-df-convert {\n",
              "      background-color: #E8F0FE;\n",
              "      border: none;\n",
              "      border-radius: 50%;\n",
              "      cursor: pointer;\n",
              "      display: none;\n",
              "      fill: #1967D2;\n",
              "      height: 32px;\n",
              "      padding: 0 0 0 0;\n",
              "      width: 32px;\n",
              "    }\n",
              "\n",
              "    .colab-df-convert:hover {\n",
              "      background-color: #E2EBFA;\n",
              "      box-shadow: 0px 1px 2px rgba(60, 64, 67, 0.3), 0px 1px 3px 1px rgba(60, 64, 67, 0.15);\n",
              "      fill: #174EA6;\n",
              "    }\n",
              "\n",
              "    .colab-df-buttons div {\n",
              "      margin-bottom: 4px;\n",
              "    }\n",
              "\n",
              "    [theme=dark] .colab-df-convert {\n",
              "      background-color: #3B4455;\n",
              "      fill: #D2E3FC;\n",
              "    }\n",
              "\n",
              "    [theme=dark] .colab-df-convert:hover {\n",
              "      background-color: #434B5C;\n",
              "      box-shadow: 0px 1px 3px 1px rgba(0, 0, 0, 0.15);\n",
              "      filter: drop-shadow(0px 1px 2px rgba(0, 0, 0, 0.3));\n",
              "      fill: #FFFFFF;\n",
              "    }\n",
              "  </style>\n",
              "\n",
              "    <script>\n",
              "      const buttonEl =\n",
              "        document.querySelector('#df-88e69caa-e698-4073-bce8-d82ce4f305f3 button.colab-df-convert');\n",
              "      buttonEl.style.display =\n",
              "        google.colab.kernel.accessAllowed ? 'block' : 'none';\n",
              "\n",
              "      async function convertToInteractive(key) {\n",
              "        const element = document.querySelector('#df-88e69caa-e698-4073-bce8-d82ce4f305f3');\n",
              "        const dataTable =\n",
              "          await google.colab.kernel.invokeFunction('convertToInteractive',\n",
              "                                                    [key], {});\n",
              "        if (!dataTable) return;\n",
              "\n",
              "        const docLinkHtml = 'Like what you see? Visit the ' +\n",
              "          '<a target=\"_blank\" href=https://colab.research.google.com/notebooks/data_table.ipynb>data table notebook</a>'\n",
              "          + ' to learn more about interactive tables.';\n",
              "        element.innerHTML = '';\n",
              "        dataTable['output_type'] = 'display_data';\n",
              "        await google.colab.output.renderOutput(dataTable, element);\n",
              "        const docLink = document.createElement('div');\n",
              "        docLink.innerHTML = docLinkHtml;\n",
              "        element.appendChild(docLink);\n",
              "      }\n",
              "    </script>\n",
              "  </div>\n",
              "\n",
              "\n",
              "<div id=\"df-ed4f9f84-425e-4b3d-b529-cde69562f05c\">\n",
              "  <button class=\"colab-df-quickchart\" onclick=\"quickchart('df-ed4f9f84-425e-4b3d-b529-cde69562f05c')\"\n",
              "            title=\"Suggest charts\"\n",
              "            style=\"display:none;\">\n",
              "\n",
              "<svg xmlns=\"http://www.w3.org/2000/svg\" height=\"24px\"viewBox=\"0 0 24 24\"\n",
              "     width=\"24px\">\n",
              "    <g>\n",
              "        <path d=\"M19 3H5c-1.1 0-2 .9-2 2v14c0 1.1.9 2 2 2h14c1.1 0 2-.9 2-2V5c0-1.1-.9-2-2-2zM9 17H7v-7h2v7zm4 0h-2V7h2v10zm4 0h-2v-4h2v4z\"/>\n",
              "    </g>\n",
              "</svg>\n",
              "  </button>\n",
              "\n",
              "<style>\n",
              "  .colab-df-quickchart {\n",
              "      --bg-color: #E8F0FE;\n",
              "      --fill-color: #1967D2;\n",
              "      --hover-bg-color: #E2EBFA;\n",
              "      --hover-fill-color: #174EA6;\n",
              "      --disabled-fill-color: #AAA;\n",
              "      --disabled-bg-color: #DDD;\n",
              "  }\n",
              "\n",
              "  [theme=dark] .colab-df-quickchart {\n",
              "      --bg-color: #3B4455;\n",
              "      --fill-color: #D2E3FC;\n",
              "      --hover-bg-color: #434B5C;\n",
              "      --hover-fill-color: #FFFFFF;\n",
              "      --disabled-bg-color: #3B4455;\n",
              "      --disabled-fill-color: #666;\n",
              "  }\n",
              "\n",
              "  .colab-df-quickchart {\n",
              "    background-color: var(--bg-color);\n",
              "    border: none;\n",
              "    border-radius: 50%;\n",
              "    cursor: pointer;\n",
              "    display: none;\n",
              "    fill: var(--fill-color);\n",
              "    height: 32px;\n",
              "    padding: 0;\n",
              "    width: 32px;\n",
              "  }\n",
              "\n",
              "  .colab-df-quickchart:hover {\n",
              "    background-color: var(--hover-bg-color);\n",
              "    box-shadow: 0 1px 2px rgba(60, 64, 67, 0.3), 0 1px 3px 1px rgba(60, 64, 67, 0.15);\n",
              "    fill: var(--button-hover-fill-color);\n",
              "  }\n",
              "\n",
              "  .colab-df-quickchart-complete:disabled,\n",
              "  .colab-df-quickchart-complete:disabled:hover {\n",
              "    background-color: var(--disabled-bg-color);\n",
              "    fill: var(--disabled-fill-color);\n",
              "    box-shadow: none;\n",
              "  }\n",
              "\n",
              "  .colab-df-spinner {\n",
              "    border: 2px solid var(--fill-color);\n",
              "    border-color: transparent;\n",
              "    border-bottom-color: var(--fill-color);\n",
              "    animation:\n",
              "      spin 1s steps(1) infinite;\n",
              "  }\n",
              "\n",
              "  @keyframes spin {\n",
              "    0% {\n",
              "      border-color: transparent;\n",
              "      border-bottom-color: var(--fill-color);\n",
              "      border-left-color: var(--fill-color);\n",
              "    }\n",
              "    20% {\n",
              "      border-color: transparent;\n",
              "      border-left-color: var(--fill-color);\n",
              "      border-top-color: var(--fill-color);\n",
              "    }\n",
              "    30% {\n",
              "      border-color: transparent;\n",
              "      border-left-color: var(--fill-color);\n",
              "      border-top-color: var(--fill-color);\n",
              "      border-right-color: var(--fill-color);\n",
              "    }\n",
              "    40% {\n",
              "      border-color: transparent;\n",
              "      border-right-color: var(--fill-color);\n",
              "      border-top-color: var(--fill-color);\n",
              "    }\n",
              "    60% {\n",
              "      border-color: transparent;\n",
              "      border-right-color: var(--fill-color);\n",
              "    }\n",
              "    80% {\n",
              "      border-color: transparent;\n",
              "      border-right-color: var(--fill-color);\n",
              "      border-bottom-color: var(--fill-color);\n",
              "    }\n",
              "    90% {\n",
              "      border-color: transparent;\n",
              "      border-bottom-color: var(--fill-color);\n",
              "    }\n",
              "  }\n",
              "</style>\n",
              "\n",
              "  <script>\n",
              "    async function quickchart(key) {\n",
              "      const quickchartButtonEl =\n",
              "        document.querySelector('#' + key + ' button');\n",
              "      quickchartButtonEl.disabled = true;  // To prevent multiple clicks.\n",
              "      quickchartButtonEl.classList.add('colab-df-spinner');\n",
              "      try {\n",
              "        const charts = await google.colab.kernel.invokeFunction(\n",
              "            'suggestCharts', [key], {});\n",
              "      } catch (error) {\n",
              "        console.error('Error during call to suggestCharts:', error);\n",
              "      }\n",
              "      quickchartButtonEl.classList.remove('colab-df-spinner');\n",
              "      quickchartButtonEl.classList.add('colab-df-quickchart-complete');\n",
              "    }\n",
              "    (() => {\n",
              "      let quickchartButtonEl =\n",
              "        document.querySelector('#df-ed4f9f84-425e-4b3d-b529-cde69562f05c button');\n",
              "      quickchartButtonEl.style.display =\n",
              "        google.colab.kernel.accessAllowed ? 'block' : 'none';\n",
              "    })();\n",
              "  </script>\n",
              "</div>\n",
              "    </div>\n",
              "  </div>\n"
            ],
            "application/vnd.google.colaboratory.intrinsic+json": {
              "type": "dataframe",
              "variable_name": "results",
              "summary": "{\n  \"name\": \"results\",\n  \"rows\": 15,\n  \"fields\": [\n    {\n      \"column\": \"coefficient\",\n      \"properties\": {\n        \"dtype\": \"number\",\n        \"std\": 135.1986131582289,\n        \"min\": -423.320498427099,\n        \"max\": 133.34646668128497,\n        \"num_unique_values\": 15,\n        \"samples\": [\n          -0.04994585414568472,\n          -0.2494441361290775,\n          133.34646668128497\n        ],\n        \"semantic_type\": \"\",\n        \"description\": \"\"\n      }\n    },\n    {\n      \"column\": \"feature\",\n      \"properties\": {\n        \"dtype\": \"string\",\n        \"num_unique_values\": 15,\n        \"samples\": [\n          \"minimum_nights\",\n          \"number_of_reviews\",\n          \"room_type_vec_Entire home/apt\"\n        ],\n        \"semantic_type\": \"\",\n        \"description\": \"\"\n      }\n    }\n  ]\n}"
            }
          },
          "metadata": {},
          "execution_count": 75
        }
      ]
    },
    {
      "cell_type": "code",
      "source": [
        "results.plot(x='feature', kind='barh').invert_yaxis()"
      ],
      "metadata": {
        "colab": {
          "base_uri": "https://localhost:8080/",
          "height": 430
        },
        "id": "ChSnxFQupm_J",
        "outputId": "3708dd4d-671e-46a2-d9c3-0cf3ee0cfd4e"
      },
      "execution_count": 76,
      "outputs": [
        {
          "output_type": "display_data",
          "data": {
            "text/plain": [
              "<Figure size 640x480 with 1 Axes>"
            ],
            "image/png": "[encoded data removed]"
          },
          "metadata": {}
        }
      ]
    },
    {
      "cell_type": "code",
      "source": [
        "# print the model training results using MAE (mean absolute error) & RMSE (root mean square error)\n",
        "print(\"mae:\", model.summary.meanAbsoluteError)\n",
        "print(\"rmse:\", model.summary.rootMeanSquaredError)"
      ],
      "metadata": {
        "colab": {
          "base_uri": "https://localhost:8080/"
        },
        "id": "kqIogfVEkKTy",
        "outputId": "74341203-1249-444c-a61e-a8396ae5e28a"
      },
      "execution_count": 77,
      "outputs": [
        {
          "output_type": "stream",
          "name": "stdout",
          "text": [
            "mae: 73.32894170728242\n",
            "rmse: 217.51603821695963\n"
          ]
        }
      ]
    },
    {
      "cell_type": "code",
      "source": [
        "# evaluate the model for the test set\n",
        "for metric in ['mae', 'rmse']:\n",
        "  evaluator = RegressionEvaluator(predictionCol='prediction', labelCol=label_col, metricName=metric)\n",
        "  score = evaluator.evaluate(predictions)\n",
        "  print(metric+':', score)"
      ],
      "metadata": {
        "colab": {
          "base_uri": "https://localhost:8080/"
        },
        "id": "QHN7tf9VSIML",
        "outputId": "0f70cf21-79a3-456b-ff6a-6c70769e6bf0"
      },
      "execution_count": 78,
      "outputs": [
        {
          "output_type": "stream",
          "name": "stdout",
          "text": [
            "mae: 75.21559300297227\n",
            "rmse: 260.3927951976177\n"
          ]
        }
      ]
    },
    {
      "cell_type": "markdown",
      "source": [
        "# Stop PySpark Cluster"
      ],
      "metadata": {
        "id": "j18Go0kXEQg6"
      }
    },
    {
      "cell_type": "code",
      "source": [
        "# stop pyspark cluster in standalone mode (Driver & SparkContext)\n",
        "spark.stop()"
      ],
      "metadata": {
        "id": "_mA9fFTY2DDq"
      },
      "execution_count": 79,
      "outputs": []
    },
    {
      "cell_type": "markdown",
      "source": [
        "# Final Message"
      ],
      "metadata": {
        "id": "Wu6lBCm6CYM-"
      }
    },
    {
      "cell_type": "markdown",
      "source": [
        "Congratulations if you reached the end of this Notebook successfully!\n",
        "\n",
        "You should now know the basics of Spark Core and Spark SQL to work on Big Data. You know how to read, process, clean and enrich datasets for exploratory data analysis, machine learning modeling or create data products. Keep up the good work."
      ],
      "metadata": {
        "id": "vSzKNqibCfmk"
      }
    }
  ]
}